{
 "cells": [
  {
   "cell_type": "code",
   "execution_count": 18,
   "metadata": {},
   "outputs": [],
   "source": [
    "import random\n",
    "import polars as pl\n",
    "\n",
    "import netcbs as net"
   ]
  },
  {
   "cell_type": "code",
   "execution_count": 20,
   "metadata": {},
   "outputs": [
    {
     "name": "stdout",
     "output_type": "stream",
     "text": [
      "{'Family': {301, 302, 303, 304, 305, 306, 307, 308, 309, 310, 311, 312, 313, 314, 315, 316, 317, 318, 319, 320, 321, 322}, 'Colleagues': {201}, 'Neighbors': {101, 102}, 'Schoolmates': {501, 502, 503, 504, 505, 506}, 'Housemates': {401, 402}}\n",
      "{101: 'Neighbor - 10 closest addresses', 102: 'Neighborhood acquaintance - 20 random neighbors within 200 meters', 201: 'Colleague', 301: 'Parent', 302: 'Co-parent', 303: 'Grandparent', 304: 'Child', 305: 'Grandchild', 306: 'Full sibling', 307: 'Half sibling', 308: 'Unknown sibling', 309: 'Full cousin', 310: 'Cousin', 311: 'Aunt/Uncle', 312: 'Partner - married', 313: 'Partner - not married', 314: 'Parent-in-law', 315: 'Child-in-law', 316: 'Sibling-in-law', 317: 'Stepparent', 318: 'Stepchild', 319: 'Stepsibling', 320: 'Married full cousin', 321: 'Married cousin', 322: 'Married aunt/uncle', 401: 'Housemate', 402: 'Housemate - institution', 501: 'Classmate primary education', 502: 'Classmate special education', 503: 'Classmate secondary education', 504: 'Classmate vocational education', 505: 'Classmate higher professional education', 506: 'Classmate university education'}\n"
     ]
    }
   ],
   "source": [
    "# Print contexts and codebook\n",
    "print(net.context2types)\n",
    "print(net.codebook)"
   ]
  },
  {
   "cell_type": "markdown",
   "metadata": {},
   "source": [
    "### Select the sample dataframe and the dataframe with the variable to aggregate\n",
    "\n",
    "For this example we will be using synthetic data. For each context (Family, Colleagues, Neighbors, Schoolmates, Housemates), we generated a \"network file\" containing 1,000,000 relationships (see section below). Each relationship is taken at random from any of the context types (see netdbs.contexts2types).\n",
    "\n",
    "We then create two files: one with the IDs (RINPERSOON) in the sample, one with the IDs (RINPERSOON) and the variable to aggregate. In the CBS RA you will use real data."
   ]
  },
  {
   "cell_type": "code",
   "execution_count": 24,
   "metadata": {},
   "outputs": [],
   "source": [
    "\n",
    "# Create df_sample example\n",
    "df_sample = pl.DataFrame(\n",
    "    {\n",
    "        \"RINPERSOON\": [str(_) for _ in range(100_000_000, 100_010_000)],\n",
    "        \"RINPERSOONS\": [\"R\"]*10_000\n",
    "    }\n",
    "    \n",
    ")\n",
    "\n",
    "df_agg = pl.LazyFrame(\n",
    "    {\n",
    "        \"RINPERSOON\":   [str(_) for _ in range(100_000_000, 101_000_000)],\n",
    "        \"RINPERSOONS\":  [\"R\"]*1_000_000,\n",
    "        \"Income\":       [random.normalvariate(30000, 5000) for _ in range(1_000_000)],\n",
    "        \"Age\":          [random.normalvariate(30, 10) for _ in range(1_000_000)]\n",
    "    }\n",
    ")\n",
    "\n"
   ]
  },
  {
   "cell_type": "markdown",
   "metadata": {},
   "source": [
    "### Run query\n",
    "\n",
    "This is the most important part of the code. Here we will aggregate the variable of interest. In this case, we will aggregate the number of relationships per context."
   ]
  },
  {
   "cell_type": "code",
   "execution_count": 25,
   "metadata": {},
   "outputs": [
    {
     "name": "stderr",
     "output_type": "stream",
     "text": [
      "INFO:netcbs.netcbs:Dropping duplicated entries (if any). Check this before submitting the query or set lazy==False\n",
      "INFO:netcbs.netcbs:Dropping duplicated entries (if any). Check this before submitting the query or set lazy==False\n"
     ]
    },
    {
     "data": {
      "text/html": [
       "<div><style>\n",
       ".dataframe > thead > tr,\n",
       ".dataframe > tbody > tr {\n",
       "  text-align: right;\n",
       "  white-space: pre-wrap;\n",
       "}\n",
       "</style>\n",
       "<small>shape: (10_000, 8)</small><table border=\"1\" class=\"dataframe\"><thead><tr><th>RINPERSOON</th><th>RINPERSOONS</th><th>mean_Income</th><th>mean_Age</th><th>sum_Income</th><th>sum_Age</th><th>max_Income</th><th>max_Age</th></tr><tr><td>str</td><td>str</td><td>f64</td><td>f64</td><td>f64</td><td>f64</td><td>f64</td><td>f64</td></tr></thead><tbody><tr><td>&quot;100000000&quot;</td><td>&quot;R&quot;</td><td>28321.320778</td><td>31.688816</td><td>226570.566225</td><td>253.510529</td><td>35314.662122</td><td>50.746184</td></tr><tr><td>&quot;100000001&quot;</td><td>&quot;R&quot;</td><td>31915.268944</td><td>29.239601</td><td>191491.613665</td><td>175.437603</td><td>37542.068247</td><td>34.754215</td></tr><tr><td>&quot;100000002&quot;</td><td>&quot;R&quot;</td><td>27835.622318</td><td>28.88142</td><td>111342.489273</td><td>115.525682</td><td>29769.59044</td><td>48.629047</td></tr><tr><td>&quot;100000003&quot;</td><td>&quot;R&quot;</td><td>31834.957176</td><td>43.231485</td><td>127339.828702</td><td>172.925941</td><td>34207.911626</td><td>54.516692</td></tr><tr><td>&quot;100000004&quot;</td><td>&quot;R&quot;</td><td>28058.979387</td><td>29.276037</td><td>140294.896933</td><td>146.380185</td><td>42740.930614</td><td>36.350667</td></tr><tr><td>&hellip;</td><td>&hellip;</td><td>&hellip;</td><td>&hellip;</td><td>&hellip;</td><td>&hellip;</td><td>&hellip;</td><td>&hellip;</td></tr><tr><td>&quot;100009995&quot;</td><td>&quot;R&quot;</td><td>30907.152506</td><td>27.924227</td><td>154535.76253</td><td>139.621134</td><td>34128.946573</td><td>40.61732</td></tr><tr><td>&quot;100009996&quot;</td><td>&quot;R&quot;</td><td>28838.149166</td><td>26.783768</td><td>230705.193326</td><td>214.270146</td><td>35071.174766</td><td>35.482094</td></tr><tr><td>&quot;100009997&quot;</td><td>&quot;R&quot;</td><td>29566.960626</td><td>31.629272</td><td>88700.881877</td><td>94.887815</td><td>36388.549702</td><td>47.795576</td></tr><tr><td>&quot;100009998&quot;</td><td>&quot;R&quot;</td><td>28922.907062</td><td>30.984691</td><td>260306.163561</td><td>278.862223</td><td>37701.643059</td><td>45.215123</td></tr><tr><td>&quot;100009999&quot;</td><td>&quot;R&quot;</td><td>29045.115959</td><td>30.887665</td><td>203315.811714</td><td>216.213658</td><td>35919.352833</td><td>38.384273</td></tr></tbody></table></div>"
      ],
      "text/plain": [
       "shape: (10_000, 8)\n",
       "┌────────────┬────────────┬────────────┬───────────┬───────────┬───────────┬───────────┬───────────┐\n",
       "│ RINPERSOON ┆ RINPERSOON ┆ mean_Incom ┆ mean_Age  ┆ sum_Incom ┆ sum_Age   ┆ max_Incom ┆ max_Age   │\n",
       "│ ---        ┆ S          ┆ e          ┆ ---       ┆ e         ┆ ---       ┆ e         ┆ ---       │\n",
       "│ str        ┆ ---        ┆ ---        ┆ f64       ┆ ---       ┆ f64       ┆ ---       ┆ f64       │\n",
       "│            ┆ str        ┆ f64        ┆           ┆ f64       ┆           ┆ f64       ┆           │\n",
       "╞════════════╪════════════╪════════════╪═══════════╪═══════════╪═══════════╪═══════════╪═══════════╡\n",
       "│ 100000000  ┆ R          ┆ 28321.3207 ┆ 31.688816 ┆ 226570.56 ┆ 253.51052 ┆ 35314.662 ┆ 50.746184 │\n",
       "│            ┆            ┆ 78         ┆           ┆ 6225      ┆ 9         ┆ 122       ┆           │\n",
       "│ 100000001  ┆ R          ┆ 31915.2689 ┆ 29.239601 ┆ 191491.61 ┆ 175.43760 ┆ 37542.068 ┆ 34.754215 │\n",
       "│            ┆            ┆ 44         ┆           ┆ 3665      ┆ 3         ┆ 247       ┆           │\n",
       "│ 100000002  ┆ R          ┆ 27835.6223 ┆ 28.88142  ┆ 111342.48 ┆ 115.52568 ┆ 29769.590 ┆ 48.629047 │\n",
       "│            ┆            ┆ 18         ┆           ┆ 9273      ┆ 2         ┆ 44        ┆           │\n",
       "│ 100000003  ┆ R          ┆ 31834.9571 ┆ 43.231485 ┆ 127339.82 ┆ 172.92594 ┆ 34207.911 ┆ 54.516692 │\n",
       "│            ┆            ┆ 76         ┆           ┆ 8702      ┆ 1         ┆ 626       ┆           │\n",
       "│ 100000004  ┆ R          ┆ 28058.9793 ┆ 29.276037 ┆ 140294.89 ┆ 146.38018 ┆ 42740.930 ┆ 36.350667 │\n",
       "│            ┆            ┆ 87         ┆           ┆ 6933      ┆ 5         ┆ 614       ┆           │\n",
       "│ …          ┆ …          ┆ …          ┆ …         ┆ …         ┆ …         ┆ …         ┆ …         │\n",
       "│ 100009995  ┆ R          ┆ 30907.1525 ┆ 27.924227 ┆ 154535.76 ┆ 139.62113 ┆ 34128.946 ┆ 40.61732  │\n",
       "│            ┆            ┆ 06         ┆           ┆ 253       ┆ 4         ┆ 573       ┆           │\n",
       "│ 100009996  ┆ R          ┆ 28838.1491 ┆ 26.783768 ┆ 230705.19 ┆ 214.27014 ┆ 35071.174 ┆ 35.482094 │\n",
       "│            ┆            ┆ 66         ┆           ┆ 3326      ┆ 6         ┆ 766       ┆           │\n",
       "│ 100009997  ┆ R          ┆ 29566.9606 ┆ 31.629272 ┆ 88700.881 ┆ 94.887815 ┆ 36388.549 ┆ 47.795576 │\n",
       "│            ┆            ┆ 26         ┆           ┆ 877       ┆           ┆ 702       ┆           │\n",
       "│ 100009998  ┆ R          ┆ 28922.9070 ┆ 30.984691 ┆ 260306.16 ┆ 278.86222 ┆ 37701.643 ┆ 45.215123 │\n",
       "│            ┆            ┆ 62         ┆           ┆ 3561      ┆ 3         ┆ 059       ┆           │\n",
       "│ 100009999  ┆ R          ┆ 29045.1159 ┆ 30.887665 ┆ 203315.81 ┆ 216.21365 ┆ 35919.352 ┆ 38.384273 │\n",
       "│            ┆            ┆ 59         ┆           ┆ 1714      ┆ 8         ┆ 833       ┆           │\n",
       "└────────────┴────────────┴────────────┴───────────┴───────────┴───────────┴───────────┴───────────┘"
      ]
     },
     "execution_count": 25,
     "metadata": {},
     "output_type": "execute_result"
    }
   ],
   "source": [
    "## Query: The income of the parent's of the schoolmates of the children in the sample\n",
    "\n",
    "## How to construct the query\n",
    "# 1. Start with the variables that you want to aggregate, e.g. \"[Income, Age] ->\"\n",
    "# 2. Then add the relationships between the tables, e.g., \"[Income, Age] -> Family[301]\".\n",
    "# In square brackets you can specify the type of the relationships: \n",
    "# write [all] for all, or [301,302] for parents and co-parents\n",
    "# 3. You can add several tables: \"[Income, Age] -> Family[301] -> Schoolmates[all]\"\n",
    "# 4. Finally, you must write \"-> Sample\" \n",
    "\n",
    "## Other parameters\n",
    "# df_sample: the sample dataframe (with the people you want to have information on)\n",
    "# df_agg: the dataframe with the information you want to aggregate. For example, the income of all people in the country\n",
    "# year: the year of the data you want to use\n",
    "# agg_func: the aggregation function you want to use. For example, pl.mean or pl.sum\n",
    "# return_pandas: if True, the function returns a pandas dataframe. If False, it returns a polars dataframe\n",
    "# lazy: if True, the operations are concatenated lazily and computed at the end. If False, the operations are computed immediately\n",
    "# cbdata_path: the path to the CBS data. Usually this is \"G:/Bevolking\". In this example, we use synthetic data saved in \"cbsdata/Bevolking\". \n",
    "\n",
    "\n",
    "## The transform function validates the query before running it\n",
    "\n",
    "# Example\n",
    "query =  \"[Income, Age] -> Family[all] -> Schoolmates[all] -> Sample\"\n",
    "\n",
    "df = net.transform(query, \n",
    "               df_sample = df_sample, \n",
    "               df_agg = df_agg, \n",
    "               year=2021,\n",
    "               cbsdata_path='cbsdata/Bevolking', # Path to the CBS data (\"G:/Bevolking\"), in this example is synthetic data locally \n",
    "               agg_funcs=[pl.mean, pl.sum, pl.max], \n",
    "               return_pandas=False, \n",
    "               lazy=True)\n",
    "\n",
    "df    "
   ]
  },
  {
   "cell_type": "code",
   "execution_count": 27,
   "metadata": {},
   "outputs": [
    {
     "data": {
      "text/plain": [
       "['Sample', 'Schoolmates[all]', 'Family[301,302,303]', 'Income']"
      ]
     },
     "execution_count": 27,
     "metadata": {},
     "output_type": "execute_result"
    }
   ],
   "source": [
    "# You can also validate the query before running it\n",
    "query =  \"Income -> Family[301,302,303] -> Schoolmates[all] -> Sample\"\n",
    "net.validate_query(query, \n",
    "               df_sample = df_sample, \n",
    "               df_agg = df_agg, \n",
    "               year=2021,\n",
    "               cbsdata_path='cbsdata/Bevolking', # Path to the CBS data, in this example is synthetic data locally \n",
    ")"
   ]
  },
  {
   "cell_type": "code",
   "execution_count": 28,
   "metadata": {},
   "outputs": [
    {
     "data": {
      "text/plain": [
       "('cbsdata/Bevolking/FAMILIENETWERKTAB/FAMILIENETWERK2010TABV1.csv', {301})"
      ]
     },
     "execution_count": 28,
     "metadata": {},
     "output_type": "execute_result"
    }
   ],
   "source": [
    "# Create path to latest verion of CBS data\n",
    "net.format_path(context='Family[301]', year=2010, cbsdata_path='cbsdata/Bevolking')"
   ]
  },
  {
   "cell_type": "code",
   "execution_count": null,
   "metadata": {},
   "outputs": [],
   "source": []
  },
  {
   "cell_type": "markdown",
   "metadata": {},
   "source": [
    "## Create synthetic data (not needed at CBS!)\n",
    "\n",
    "Let's create some synthetic data to explain how the code works\n",
    "\n",
    "For each context (Family, Colleagues, Neighbors, Schoolmates, Housemates), we will generate a \"network file\" containing 1,000,000 relationsihps. Each relationship is taken at random from any of the context types (see netdbs.contexts2types).\n"
   ]
  },
  {
   "cell_type": "code",
   "execution_count": 3,
   "metadata": {},
   "outputs": [],
   "source": [
    "net.create_synthetic_data(\"Family\", 2021, 1_000_000, outpath=\"cbsdata/Bevolking\")\n",
    "net.create_synthetic_data(\"Colleagues\", 2021, 1_000_000, outpath=\"cbsdata/Bevolking\")\n",
    "net.create_synthetic_data(\"Neighbors\", 2021, 1_000_000, outpath=\"cbsdata/Bevolking\")\n",
    "net.create_synthetic_data(\"Schoolmates\", 2021, 1_000_000, outpath=\"cbsdata/Bevolking\")\n",
    "net.create_synthetic_data(\"Housemates\", 2021, 1_000_000, outpath=\"cbsdata/Bevolking\")\n"
   ]
  },
  {
   "cell_type": "code",
   "execution_count": 19,
   "metadata": {},
   "outputs": [
    {
     "data": {
      "text/html": [
       "<div><style>\n",
       ".dataframe > thead > tr,\n",
       ".dataframe > tbody > tr {\n",
       "  text-align: right;\n",
       "  white-space: pre-wrap;\n",
       "}\n",
       "</style>\n",
       "<small>shape: (10, 8)</small><table border=\"1\" class=\"dataframe\"><thead><tr><th>RINPERSOON</th><th>RINPERSOONS</th><th>mean_Income</th><th>mean_Age</th><th>sum_Income</th><th>sum_Age</th><th>max_Income</th><th>max_Age</th></tr><tr><td>i64</td><td>str</td><td>f64</td><td>f64</td><td>f64</td><td>f64</td><td>f64</td><td>f64</td></tr></thead><tbody><tr><td>100000000</td><td>&quot;R&quot;</td><td>30441.338632</td><td>32.953794</td><td>3.5921e6</td><td>3888.547723</td><td>39104.044557</td><td>50.638837</td></tr><tr><td>100000001</td><td>&quot;R&quot;</td><td>30494.715232</td><td>33.010881</td><td>2.6530e6</td><td>2871.946604</td><td>39104.044557</td><td>50.638837</td></tr><tr><td>100000002</td><td>&quot;R&quot;</td><td>31312.598165</td><td>31.564705</td><td>3.4444e6</td><td>3472.117496</td><td>39104.044557</td><td>50.638837</td></tr><tr><td>100000003</td><td>&quot;R&quot;</td><td>30861.611098</td><td>32.395738</td><td>4.5058e6</td><td>4729.777793</td><td>39104.044557</td><td>50.638837</td></tr><tr><td>100000004</td><td>&quot;R&quot;</td><td>30862.305772</td><td>32.612148</td><td>4.1355e6</td><td>4370.027836</td><td>39104.044557</td><td>50.638837</td></tr><tr><td>100000005</td><td>&quot;R&quot;</td><td>31541.894736</td><td>32.819419</td><td>1.7033e6</td><td>1772.24865</td><td>39104.044557</td><td>50.638837</td></tr><tr><td>100000006</td><td>&quot;R&quot;</td><td>29841.261126</td><td>32.644702</td><td>1.9098e6</td><td>2089.260935</td><td>39104.044557</td><td>50.638837</td></tr><tr><td>100000007</td><td>&quot;R&quot;</td><td>30759.015916</td><td>32.897355</td><td>2.2762e6</td><td>2434.404305</td><td>39104.044557</td><td>50.638837</td></tr><tr><td>100000008</td><td>&quot;R&quot;</td><td>30710.504316</td><td>33.108053</td><td>4.2380e6</td><td>4568.911273</td><td>39104.044557</td><td>50.638837</td></tr><tr><td>100000009</td><td>&quot;R&quot;</td><td>30859.245807</td><td>32.727422</td><td>3.3945e6</td><td>3600.016407</td><td>39104.044557</td><td>50.638837</td></tr></tbody></table></div>"
      ],
      "text/plain": [
       "shape: (10, 8)\n",
       "┌────────────┬────────────┬────────────┬───────────┬───────────┬───────────┬───────────┬───────────┐\n",
       "│ RINPERSOON ┆ RINPERSOON ┆ mean_Incom ┆ mean_Age  ┆ sum_Incom ┆ sum_Age   ┆ max_Incom ┆ max_Age   │\n",
       "│ ---        ┆ S          ┆ e          ┆ ---       ┆ e         ┆ ---       ┆ e         ┆ ---       │\n",
       "│ i64        ┆ ---        ┆ ---        ┆ f64       ┆ ---       ┆ f64       ┆ ---       ┆ f64       │\n",
       "│            ┆ str        ┆ f64        ┆           ┆ f64       ┆           ┆ f64       ┆           │\n",
       "╞════════════╪════════════╪════════════╪═══════════╪═══════════╪═══════════╪═══════════╪═══════════╡\n",
       "│ 100000000  ┆ R          ┆ 30441.3386 ┆ 32.953794 ┆ 3.5921e6  ┆ 3888.5477 ┆ 39104.044 ┆ 50.638837 │\n",
       "│            ┆            ┆ 32         ┆           ┆           ┆ 23        ┆ 557       ┆           │\n",
       "│ 100000001  ┆ R          ┆ 30494.7152 ┆ 33.010881 ┆ 2.6530e6  ┆ 2871.9466 ┆ 39104.044 ┆ 50.638837 │\n",
       "│            ┆            ┆ 32         ┆           ┆           ┆ 04        ┆ 557       ┆           │\n",
       "│ 100000002  ┆ R          ┆ 31312.5981 ┆ 31.564705 ┆ 3.4444e6  ┆ 3472.1174 ┆ 39104.044 ┆ 50.638837 │\n",
       "│            ┆            ┆ 65         ┆           ┆           ┆ 96        ┆ 557       ┆           │\n",
       "│ 100000003  ┆ R          ┆ 30861.6110 ┆ 32.395738 ┆ 4.5058e6  ┆ 4729.7777 ┆ 39104.044 ┆ 50.638837 │\n",
       "│            ┆            ┆ 98         ┆           ┆           ┆ 93        ┆ 557       ┆           │\n",
       "│ 100000004  ┆ R          ┆ 30862.3057 ┆ 32.612148 ┆ 4.1355e6  ┆ 4370.0278 ┆ 39104.044 ┆ 50.638837 │\n",
       "│            ┆            ┆ 72         ┆           ┆           ┆ 36        ┆ 557       ┆           │\n",
       "│ 100000005  ┆ R          ┆ 31541.8947 ┆ 32.819419 ┆ 1.7033e6  ┆ 1772.2486 ┆ 39104.044 ┆ 50.638837 │\n",
       "│            ┆            ┆ 36         ┆           ┆           ┆ 5         ┆ 557       ┆           │\n",
       "│ 100000006  ┆ R          ┆ 29841.2611 ┆ 32.644702 ┆ 1.9098e6  ┆ 2089.2609 ┆ 39104.044 ┆ 50.638837 │\n",
       "│            ┆            ┆ 26         ┆           ┆           ┆ 35        ┆ 557       ┆           │\n",
       "│ 100000007  ┆ R          ┆ 30759.0159 ┆ 32.897355 ┆ 2.2762e6  ┆ 2434.4043 ┆ 39104.044 ┆ 50.638837 │\n",
       "│            ┆            ┆ 16         ┆           ┆           ┆ 05        ┆ 557       ┆           │\n",
       "│ 100000008  ┆ R          ┆ 30710.5043 ┆ 33.108053 ┆ 4.2380e6  ┆ 4568.9112 ┆ 39104.044 ┆ 50.638837 │\n",
       "│            ┆            ┆ 16         ┆           ┆           ┆ 73        ┆ 557       ┆           │\n",
       "│ 100000009  ┆ R          ┆ 30859.2458 ┆ 32.727422 ┆ 3.3945e6  ┆ 3600.0164 ┆ 39104.044 ┆ 50.638837 │\n",
       "│            ┆            ┆ 07         ┆           ┆           ┆ 07        ┆ 557       ┆           │\n",
       "└────────────┴────────────┴────────────┴───────────┴───────────┴───────────┴───────────┴───────────┘"
      ]
     },
     "execution_count": 19,
     "metadata": {},
     "output_type": "execute_result"
    }
   ],
   "source": [
    "# FOR TESTING (LATER ON)\n",
    "\n",
    "# Create df_sample example\n",
    "df_sample = pl.DataFrame(\n",
    "    {\n",
    "        \"RINPERSOON\": range(100_000_000, 100_000_010),\n",
    "        \"RINPERSOONS\": [\"R\"]*10\n",
    "    }\n",
    ")\n",
    "\n",
    "df_agg = pl.DataFrame(\n",
    "    {\n",
    "        \"RINPERSOON\":   range(100_000_000, 100_000_010),\n",
    "        \"RINPERSOONS\":  [\"R\"]*10,\n",
    "        \"Income\":       [random.normalvariate(30000, 5000) for _ in range(10)],\n",
    "        \"Age\":          [random.normalvariate(30, 10) for _ in range(10)]\n",
    "    }\n",
    ")\n",
    "\n",
    "query =  \"[Income, Age] -> Family[all] -> Schoolmates[all] -> Sample\"\n",
    "\n",
    "df = net.transform(query, \n",
    "               df_sample = df_sample, \n",
    "               df_agg = df_agg, \n",
    "               year=2020,\n",
    "               cbsdata_path='cbsdata/Bevolking', # Path to the CBS data (\"G:/Bevolking\"), in this example is synthetic data locally \n",
    "               agg_func=[pl.mean, pl.sum, pl.max], \n",
    "               return_pandas=False, \n",
    "               lazy=True)\n",
    "\n",
    "df    "
   ]
  },
  {
   "cell_type": "markdown",
   "metadata": {},
   "source": [
    "## Reading data directly with polars"
   ]
  },
  {
   "cell_type": "code",
   "execution_count": null,
   "metadata": {},
   "outputs": [],
   "source": [
    "import polars as pl\n",
    "pl.read_csv(\"cbsdata/Bevolking/FAMILIENETWERKTAB/FAMILIENETWERK2021TABV1.csv\", \n",
    "             n_rows=10, separator=\";\", dtypes={\"RINPERSOON\": str})"
   ]
  }
 ],
 "metadata": {
  "kernelspec": {
   "display_name": "st",
   "language": "python",
   "name": "python3"
  },
  "language_info": {
   "codemirror_mode": {
    "name": "ipython",
    "version": 3
   },
   "file_extension": ".py",
   "mimetype": "text/x-python",
   "name": "python",
   "nbconvert_exporter": "python",
   "pygments_lexer": "ipython3",
   "version": "3.10.12"
  }
 },
 "nbformat": 4,
 "nbformat_minor": 2
}
