{
 "cells": [
  {
   "cell_type": "code",
   "execution_count": 2,
   "metadata": {},
   "outputs": [],
   "source": [
    "import random\n",
    "import polars as pl\n",
    "\n",
    "import netcbs"
   ]
  },
  {
   "cell_type": "code",
   "execution_count": 2,
   "metadata": {},
   "outputs": [
    {
     "name": "stdout",
     "output_type": "stream",
     "text": [
      "{'Family': {301, 302, 303, 304, 305, 306, 307, 308, 309, 310, 311, 312, 313, 314, 315, 316, 317, 318, 319, 320, 321, 322}, 'Colleagues': {201}, 'Neighbors': {101, 102}, 'Schoolmates': {501, 502, 503, 504, 505, 506}, 'Housemates': {401, 402}}\n",
      "{101: 'Neighbor - 10 closest addresses', 102: 'Neighborhood acquaintance - 20 random neighbors within 200 meters', 201: 'Colleague', 301: 'Parent', 302: 'Co-parent', 303: 'Grandparent', 304: 'Child', 305: 'Grandchild', 306: 'Full sibling', 307: 'Half sibling', 308: 'Unknown sibling', 309: 'Full cousin', 310: 'Cousin', 311: 'Aunt/Uncle', 312: 'Partner - married', 313: 'Partner - not married', 314: 'Parent-in-law', 315: 'Child-in-law', 316: 'Sibling-in-law', 317: 'Stepparent', 318: 'Stepchild', 319: 'Stepsibling', 320: 'Married full cousin', 321: 'Married cousin', 322: 'Married aunt/uncle', 401: 'Housemate', 402: 'Housemate - institution', 501: 'Classmate primary education', 502: 'Classmate special education', 503: 'Classmate secondary education', 504: 'Classmate vocational education', 505: 'Classmate higher professional education', 506: 'Classmate university education'}\n"
     ]
    }
   ],
   "source": [
    "# Print contexts and codebook\n",
    "print(netcbs.context2types)\n",
    "print(netcbs.codebook)"
   ]
  },
  {
   "cell_type": "markdown",
   "metadata": {},
   "source": [
    "### Select the sample dataframe and the dataframe with the variable to aggregate\n",
    "\n",
    "For this example we will be using synthetic data. For each context (Family, Colleagues, Neighbors, Schoolmates, Housemates), we generated a \"network file\" containing 1,000,000 relationships (see section below). Each relationship is taken at random from any of the context types (see netdbs.contexts2types).\n",
    "\n",
    "We then create two files: one with the IDs (RINPERSOON) in the sample, one with the IDs (RINPERSOON) and the variable to aggregate. In the CBS RA you will use real data."
   ]
  },
  {
   "cell_type": "code",
   "execution_count": 10,
   "metadata": {},
   "outputs": [],
   "source": [
    "\n",
    "# Create df_sample example\n",
    "df_sample = pl.DataFrame(\n",
    "    {\n",
    "        \"RINPERSOON\": range(100_000_000, 100_010_000),\n",
    "        \"RINPERSOONS\": [\"R\"]*10_000\n",
    "    }\n",
    "    \n",
    ")\n",
    "\n",
    "df_agg = pl.LazyFrame(\n",
    "    {\n",
    "        \"RINPERSOON\":   range(100_000_000, 101_000_000),\n",
    "        \"RINPERSOONS\":  [\"R\"]*1_000_000,\n",
    "        \"Income\":       [random.normalvariate(30000, 5000) for _ in range(1_000_000)],\n",
    "        \"Age\":          [random.normalvariate(30, 10) for _ in range(1_000_000)]\n",
    "    }\n",
    ")\n",
    "\n"
   ]
  },
  {
   "cell_type": "markdown",
   "metadata": {},
   "source": [
    "### Run query\n",
    "\n",
    "This is the most important part of the code. Here we will aggregate the variable of interest. In this case, we will aggregate the number of relationships per context."
   ]
  },
  {
   "cell_type": "code",
   "execution_count": 11,
   "metadata": {},
   "outputs": [
    {
     "name": "stderr",
     "output_type": "stream",
     "text": [
      "INFO:netcbs.netcbs:The dataframe may contain duplicated entries. Use a non-lazy dataframe to find if this is the case\n",
      "INFO:netcbs.netcbs:The dataframe may contain duplicated entries. Use a non-lazy dataframe to find if this is the case\n"
     ]
    },
    {
     "data": {
      "text/html": [
       "<div><style>\n",
       ".dataframe > thead > tr,\n",
       ".dataframe > tbody > tr {\n",
       "  text-align: right;\n",
       "  white-space: pre-wrap;\n",
       "}\n",
       "</style>\n",
       "<small>shape: (10_000, 8)</small><table border=\"1\" class=\"dataframe\"><thead><tr><th>RINPERSOON</th><th>RINPERSOONS</th><th>mean_Income</th><th>mean_Age</th><th>sum_Income</th><th>sum_Age</th><th>max_Income</th><th>max_Age</th></tr><tr><td>i64</td><td>str</td><td>f64</td><td>f64</td><td>f64</td><td>f64</td><td>f64</td><td>f64</td></tr></thead><tbody><tr><td>100000000</td><td>&quot;R&quot;</td><td>31380.1757</td><td>28.972624</td><td>62760.351401</td><td>57.945248</td><td>34687.57934</td><td>29.336526</td></tr><tr><td>100000001</td><td>&quot;R&quot;</td><td>32879.284118</td><td>37.345571</td><td>131517.136471</td><td>149.382285</td><td>35894.169057</td><td>44.11918</td></tr><tr><td>100000002</td><td>&quot;R&quot;</td><td>27460.960294</td><td>30.001971</td><td>137304.80147</td><td>150.009855</td><td>37925.004174</td><td>38.651416</td></tr><tr><td>100000003</td><td>&quot;R&quot;</td><td>29677.4618</td><td>28.657164</td><td>504516.850594</td><td>487.171792</td><td>34707.643278</td><td>44.786676</td></tr><tr><td>100000004</td><td>&quot;R&quot;</td><td>null</td><td>null</td><td>null</td><td>null</td><td>null</td><td>null</td></tr><tr><td>&hellip;</td><td>&hellip;</td><td>&hellip;</td><td>&hellip;</td><td>&hellip;</td><td>&hellip;</td><td>&hellip;</td><td>&hellip;</td></tr><tr><td>100009995</td><td>&quot;R&quot;</td><td>28769.819413</td><td>31.496589</td><td>115079.277653</td><td>125.986358</td><td>34641.216281</td><td>44.699332</td></tr><tr><td>100009996</td><td>&quot;R&quot;</td><td>null</td><td>null</td><td>null</td><td>null</td><td>null</td><td>null</td></tr><tr><td>100009997</td><td>&quot;R&quot;</td><td>null</td><td>null</td><td>null</td><td>null</td><td>null</td><td>null</td></tr><tr><td>100009998</td><td>&quot;R&quot;</td><td>28584.240395</td><td>30.853813</td><td>171505.442372</td><td>185.122875</td><td>37256.265964</td><td>36.488158</td></tr><tr><td>100009999</td><td>&quot;R&quot;</td><td>27008.856403</td><td>28.560398</td><td>135044.282017</td><td>142.801989</td><td>34038.645475</td><td>34.666268</td></tr></tbody></table></div>"
      ],
      "text/plain": [
       "shape: (10_000, 8)\n",
       "┌────────────┬────────────┬────────────┬───────────┬───────────┬───────────┬───────────┬───────────┐\n",
       "│ RINPERSOON ┆ RINPERSOON ┆ mean_Incom ┆ mean_Age  ┆ sum_Incom ┆ sum_Age   ┆ max_Incom ┆ max_Age   │\n",
       "│ ---        ┆ S          ┆ e          ┆ ---       ┆ e         ┆ ---       ┆ e         ┆ ---       │\n",
       "│ i64        ┆ ---        ┆ ---        ┆ f64       ┆ ---       ┆ f64       ┆ ---       ┆ f64       │\n",
       "│            ┆ str        ┆ f64        ┆           ┆ f64       ┆           ┆ f64       ┆           │\n",
       "╞════════════╪════════════╪════════════╪═══════════╪═══════════╪═══════════╪═══════════╪═══════════╡\n",
       "│ 100000000  ┆ R          ┆ 31380.1757 ┆ 28.972624 ┆ 62760.351 ┆ 57.945248 ┆ 34687.579 ┆ 29.336526 │\n",
       "│            ┆            ┆            ┆           ┆ 401       ┆           ┆ 34        ┆           │\n",
       "│ 100000001  ┆ R          ┆ 32879.2841 ┆ 37.345571 ┆ 131517.13 ┆ 149.38228 ┆ 35894.169 ┆ 44.11918  │\n",
       "│            ┆            ┆ 18         ┆           ┆ 6471      ┆ 5         ┆ 057       ┆           │\n",
       "│ 100000002  ┆ R          ┆ 27460.9602 ┆ 30.001971 ┆ 137304.80 ┆ 150.00985 ┆ 37925.004 ┆ 38.651416 │\n",
       "│            ┆            ┆ 94         ┆           ┆ 147       ┆ 5         ┆ 174       ┆           │\n",
       "│ 100000003  ┆ R          ┆ 29677.4618 ┆ 28.657164 ┆ 504516.85 ┆ 487.17179 ┆ 34707.643 ┆ 44.786676 │\n",
       "│            ┆            ┆            ┆           ┆ 0594      ┆ 2         ┆ 278       ┆           │\n",
       "│ 100000004  ┆ R          ┆ null       ┆ null      ┆ null      ┆ null      ┆ null      ┆ null      │\n",
       "│ …          ┆ …          ┆ …          ┆ …         ┆ …         ┆ …         ┆ …         ┆ …         │\n",
       "│ 100009995  ┆ R          ┆ 28769.8194 ┆ 31.496589 ┆ 115079.27 ┆ 125.98635 ┆ 34641.216 ┆ 44.699332 │\n",
       "│            ┆            ┆ 13         ┆           ┆ 7653      ┆ 8         ┆ 281       ┆           │\n",
       "│ 100009996  ┆ R          ┆ null       ┆ null      ┆ null      ┆ null      ┆ null      ┆ null      │\n",
       "│ 100009997  ┆ R          ┆ null       ┆ null      ┆ null      ┆ null      ┆ null      ┆ null      │\n",
       "│ 100009998  ┆ R          ┆ 28584.2403 ┆ 30.853813 ┆ 171505.44 ┆ 185.12287 ┆ 37256.265 ┆ 36.488158 │\n",
       "│            ┆            ┆ 95         ┆           ┆ 2372      ┆ 5         ┆ 964       ┆           │\n",
       "│ 100009999  ┆ R          ┆ 27008.8564 ┆ 28.560398 ┆ 135044.28 ┆ 142.80198 ┆ 34038.645 ┆ 34.666268 │\n",
       "│            ┆            ┆ 03         ┆           ┆ 2017      ┆ 9         ┆ 475       ┆           │\n",
       "└────────────┴────────────┴────────────┴───────────┴───────────┴───────────┴───────────┴───────────┘"
      ]
     },
     "execution_count": 11,
     "metadata": {},
     "output_type": "execute_result"
    }
   ],
   "source": [
    "## Query: The income of the parent's of the schoolmates of the children in the sample\n",
    "\n",
    "## How to construct the query\n",
    "# 1. Start with the variables that you want to aggregate, e.g. \"[Income, Age] ->\"\n",
    "# 2. Then add the relationships between the tables, e.g., \"[Income, Age] -> Family[301]\".\n",
    "# In square brackets you can specify the type of the relationships: \n",
    "# write [all] for all, or [301,302] for parents and co-parents\n",
    "# 3. You can add several tables: \"[Income, Age] -> Family[301] -> Schoolmates[all]\"\n",
    "# 4. Finally, you must write \"-> Sample\" \n",
    "\n",
    "## Other parameters\n",
    "# df_sample: the sample dataframe (with the people you want to have information on)\n",
    "# df_agg: the dataframe with the information you want to aggregate. For example, the income of all people in the country\n",
    "# year: the year of the data you want to use\n",
    "# agg_func: the aggregation function you want to use. For example, pl.mean or pl.sum\n",
    "# return_pandas: if True, the function returns a pandas dataframe. If False, it returns a polars dataframe\n",
    "# lazy: if True, the operations are concatenated lazily and computed at the end. If False, the operations are computed immediately\n",
    "# cbdata_path: the path to the CBS data. Usually this is \"G:/Bevolking\". In this example, we use synthetic data saved in \"cbsdata/Bevolking\". \n",
    "\n",
    "\n",
    "## The transform function validates the query before running it\n",
    "\n",
    "# Example\n",
    "query =  \"[Income, Age] -> Family[all] -> Schoolmates[all] -> Sample\"\n",
    "\n",
    "df = netcbs.transform(query, \n",
    "               df_sample = df_sample, \n",
    "               df_agg = df_agg, \n",
    "               year=2021,\n",
    "               cbsdata_path='cbsdata/Bevolking', # Path to the CBS data (\"G:/Bevolking\"), in this example is synthetic data locally \n",
    "               agg_func=[pl.mean, pl.sum, pl.max], \n",
    "               return_pandas=False, \n",
    "               lazy=True)\n",
    "\n",
    "df    "
   ]
  },
  {
   "cell_type": "code",
   "execution_count": 7,
   "metadata": {},
   "outputs": [
    {
     "ename": "TypeError",
     "evalue": "DataFrame constructor called with unsupported type 'LazyFrame' for the `data` parameter",
     "output_type": "error",
     "traceback": [
      "\u001b[0;31m---------------------------------------------------------------------------\u001b[0m",
      "\u001b[0;31mTypeError\u001b[0m                                 Traceback (most recent call last)",
      "\u001b[0;32m/var/folders/hx/nz98f65j615c4ygz7xt694700000gp/T/ipykernel_23424/390691059.py\u001b[0m in \u001b[0;36m<module>\u001b[0;34m\u001b[0m\n\u001b[0;32m----> 1\u001b[0;31m \u001b[0mpl\u001b[0m\u001b[0;34m.\u001b[0m\u001b[0mDataFrame\u001b[0m\u001b[0;34m(\u001b[0m\u001b[0mdf_sample\u001b[0m\u001b[0;34m)\u001b[0m\u001b[0;34m\u001b[0m\u001b[0;34m\u001b[0m\u001b[0m\n\u001b[0m",
      "\u001b[0;32m~/miniforge3/envs/st/lib/python3.10/site-packages/polars/dataframe/frame.py\u001b[0m in \u001b[0;36m__init__\u001b[0;34m(self, data, schema, schema_overrides, strict, orient, infer_schema_length, nan_to_null)\u001b[0m\n\u001b[1;32m    417\u001b[0m                 \u001b[0;34m\" for the `data` parameter\"\u001b[0m\u001b[0;34m\u001b[0m\u001b[0;34m\u001b[0m\u001b[0m\n\u001b[1;32m    418\u001b[0m             )\n\u001b[0;32m--> 419\u001b[0;31m             \u001b[0;32mraise\u001b[0m \u001b[0mTypeError\u001b[0m\u001b[0;34m(\u001b[0m\u001b[0mmsg\u001b[0m\u001b[0;34m)\u001b[0m\u001b[0;34m\u001b[0m\u001b[0;34m\u001b[0m\u001b[0m\n\u001b[0m\u001b[1;32m    420\u001b[0m \u001b[0;34m\u001b[0m\u001b[0m\n\u001b[1;32m    421\u001b[0m     \u001b[0;34m@\u001b[0m\u001b[0mclassmethod\u001b[0m\u001b[0;34m\u001b[0m\u001b[0;34m\u001b[0m\u001b[0m\n",
      "\u001b[0;31mTypeError\u001b[0m: DataFrame constructor called with unsupported type 'LazyFrame' for the `data` parameter"
     ]
    }
   ],
   "source": [
    "pl.DataFrame(df_sample"
   ]
  },
  {
   "cell_type": "code",
   "execution_count": 6,
   "metadata": {},
   "outputs": [
    {
     "data": {
      "text/plain": [
       "['Sample', 'Schoolmates[all]', 'Family[301,302,303]', 'Income']"
      ]
     },
     "execution_count": 6,
     "metadata": {},
     "output_type": "execute_result"
    }
   ],
   "source": [
    "# You can also validate the query before running it\n",
    "query =  \"Income -> Family[301,302,303] -> Schoolmates[all] -> Sample\"\n",
    "netcbs.validate_query(query, \n",
    "               df_sample = df_sample, \n",
    "               df_agg = df_agg, \n",
    "               year=2021,\n",
    "               cbsdata_path='cbsdata/Bevolking', # Path to the CBS data, in this example is synthetic data locally \n",
    ")"
   ]
  },
  {
   "cell_type": "code",
   "execution_count": 7,
   "metadata": {},
   "outputs": [
    {
     "data": {
      "text/plain": [
       "('cbsdata/Bevolking/FAMILIENETWERKTAB/FAMILIENETWERKTAB2010V1.csv', {301})"
      ]
     },
     "execution_count": 7,
     "metadata": {},
     "output_type": "execute_result"
    }
   ],
   "source": [
    "# Create path to latest verion of CBS data\n",
    "netcbs.format_path(context='Family[301]', year=2010, cbsdata_path='cbsdata/Bevolking')"
   ]
  },
  {
   "cell_type": "code",
   "execution_count": null,
   "metadata": {},
   "outputs": [],
   "source": []
  },
  {
   "cell_type": "markdown",
   "metadata": {},
   "source": [
    "## Create synthetic data (not needed at CBS!)\n",
    "\n",
    "Let's create some synthetic data to explain how the code works\n",
    "\n",
    "For each context (Family, Colleagues, Neighbors, Schoolmates, Housemates), we will generate a \"network file\" containing 1,000,000 relationsihps. Each relationship is taken at random from any of the context types (see netdbs.contexts2types).\n"
   ]
  },
  {
   "cell_type": "code",
   "execution_count": 3,
   "metadata": {},
   "outputs": [],
   "source": [
    "netcbs.create_synthetic_data(\"Family\", 2021, 1_000_000, outpath=\"cbsdata/Bevolking\")\n",
    "netcbs.create_synthetic_data(\"Colleagues\", 2021, 1_000_000, outpath=\"cbsdata/Bevolking\")\n",
    "netcbs.create_synthetic_data(\"Neighbors\", 2021, 1_000_000, outpath=\"cbsdata/Bevolking\")\n",
    "netcbs.create_synthetic_data(\"Schoolmates\", 2021, 1_000_000, outpath=\"cbsdata/Bevolking\")\n",
    "netcbs.create_synthetic_data(\"Housemates\", 2021, 1_000_000, outpath=\"cbsdata/Bevolking\")\n"
   ]
  },
  {
   "cell_type": "code",
   "execution_count": 19,
   "metadata": {},
   "outputs": [
    {
     "data": {
      "text/html": [
       "<div><style>\n",
       ".dataframe > thead > tr,\n",
       ".dataframe > tbody > tr {\n",
       "  text-align: right;\n",
       "  white-space: pre-wrap;\n",
       "}\n",
       "</style>\n",
       "<small>shape: (10, 8)</small><table border=\"1\" class=\"dataframe\"><thead><tr><th>RINPERSOON</th><th>RINPERSOONS</th><th>mean_Income</th><th>mean_Age</th><th>sum_Income</th><th>sum_Age</th><th>max_Income</th><th>max_Age</th></tr><tr><td>i64</td><td>str</td><td>f64</td><td>f64</td><td>f64</td><td>f64</td><td>f64</td><td>f64</td></tr></thead><tbody><tr><td>100000000</td><td>&quot;R&quot;</td><td>30441.338632</td><td>32.953794</td><td>3.5921e6</td><td>3888.547723</td><td>39104.044557</td><td>50.638837</td></tr><tr><td>100000001</td><td>&quot;R&quot;</td><td>30494.715232</td><td>33.010881</td><td>2.6530e6</td><td>2871.946604</td><td>39104.044557</td><td>50.638837</td></tr><tr><td>100000002</td><td>&quot;R&quot;</td><td>31312.598165</td><td>31.564705</td><td>3.4444e6</td><td>3472.117496</td><td>39104.044557</td><td>50.638837</td></tr><tr><td>100000003</td><td>&quot;R&quot;</td><td>30861.611098</td><td>32.395738</td><td>4.5058e6</td><td>4729.777793</td><td>39104.044557</td><td>50.638837</td></tr><tr><td>100000004</td><td>&quot;R&quot;</td><td>30862.305772</td><td>32.612148</td><td>4.1355e6</td><td>4370.027836</td><td>39104.044557</td><td>50.638837</td></tr><tr><td>100000005</td><td>&quot;R&quot;</td><td>31541.894736</td><td>32.819419</td><td>1.7033e6</td><td>1772.24865</td><td>39104.044557</td><td>50.638837</td></tr><tr><td>100000006</td><td>&quot;R&quot;</td><td>29841.261126</td><td>32.644702</td><td>1.9098e6</td><td>2089.260935</td><td>39104.044557</td><td>50.638837</td></tr><tr><td>100000007</td><td>&quot;R&quot;</td><td>30759.015916</td><td>32.897355</td><td>2.2762e6</td><td>2434.404305</td><td>39104.044557</td><td>50.638837</td></tr><tr><td>100000008</td><td>&quot;R&quot;</td><td>30710.504316</td><td>33.108053</td><td>4.2380e6</td><td>4568.911273</td><td>39104.044557</td><td>50.638837</td></tr><tr><td>100000009</td><td>&quot;R&quot;</td><td>30859.245807</td><td>32.727422</td><td>3.3945e6</td><td>3600.016407</td><td>39104.044557</td><td>50.638837</td></tr></tbody></table></div>"
      ],
      "text/plain": [
       "shape: (10, 8)\n",
       "┌────────────┬────────────┬────────────┬───────────┬───────────┬───────────┬───────────┬───────────┐\n",
       "│ RINPERSOON ┆ RINPERSOON ┆ mean_Incom ┆ mean_Age  ┆ sum_Incom ┆ sum_Age   ┆ max_Incom ┆ max_Age   │\n",
       "│ ---        ┆ S          ┆ e          ┆ ---       ┆ e         ┆ ---       ┆ e         ┆ ---       │\n",
       "│ i64        ┆ ---        ┆ ---        ┆ f64       ┆ ---       ┆ f64       ┆ ---       ┆ f64       │\n",
       "│            ┆ str        ┆ f64        ┆           ┆ f64       ┆           ┆ f64       ┆           │\n",
       "╞════════════╪════════════╪════════════╪═══════════╪═══════════╪═══════════╪═══════════╪═══════════╡\n",
       "│ 100000000  ┆ R          ┆ 30441.3386 ┆ 32.953794 ┆ 3.5921e6  ┆ 3888.5477 ┆ 39104.044 ┆ 50.638837 │\n",
       "│            ┆            ┆ 32         ┆           ┆           ┆ 23        ┆ 557       ┆           │\n",
       "│ 100000001  ┆ R          ┆ 30494.7152 ┆ 33.010881 ┆ 2.6530e6  ┆ 2871.9466 ┆ 39104.044 ┆ 50.638837 │\n",
       "│            ┆            ┆ 32         ┆           ┆           ┆ 04        ┆ 557       ┆           │\n",
       "│ 100000002  ┆ R          ┆ 31312.5981 ┆ 31.564705 ┆ 3.4444e6  ┆ 3472.1174 ┆ 39104.044 ┆ 50.638837 │\n",
       "│            ┆            ┆ 65         ┆           ┆           ┆ 96        ┆ 557       ┆           │\n",
       "│ 100000003  ┆ R          ┆ 30861.6110 ┆ 32.395738 ┆ 4.5058e6  ┆ 4729.7777 ┆ 39104.044 ┆ 50.638837 │\n",
       "│            ┆            ┆ 98         ┆           ┆           ┆ 93        ┆ 557       ┆           │\n",
       "│ 100000004  ┆ R          ┆ 30862.3057 ┆ 32.612148 ┆ 4.1355e6  ┆ 4370.0278 ┆ 39104.044 ┆ 50.638837 │\n",
       "│            ┆            ┆ 72         ┆           ┆           ┆ 36        ┆ 557       ┆           │\n",
       "│ 100000005  ┆ R          ┆ 31541.8947 ┆ 32.819419 ┆ 1.7033e6  ┆ 1772.2486 ┆ 39104.044 ┆ 50.638837 │\n",
       "│            ┆            ┆ 36         ┆           ┆           ┆ 5         ┆ 557       ┆           │\n",
       "│ 100000006  ┆ R          ┆ 29841.2611 ┆ 32.644702 ┆ 1.9098e6  ┆ 2089.2609 ┆ 39104.044 ┆ 50.638837 │\n",
       "│            ┆            ┆ 26         ┆           ┆           ┆ 35        ┆ 557       ┆           │\n",
       "│ 100000007  ┆ R          ┆ 30759.0159 ┆ 32.897355 ┆ 2.2762e6  ┆ 2434.4043 ┆ 39104.044 ┆ 50.638837 │\n",
       "│            ┆            ┆ 16         ┆           ┆           ┆ 05        ┆ 557       ┆           │\n",
       "│ 100000008  ┆ R          ┆ 30710.5043 ┆ 33.108053 ┆ 4.2380e6  ┆ 4568.9112 ┆ 39104.044 ┆ 50.638837 │\n",
       "│            ┆            ┆ 16         ┆           ┆           ┆ 73        ┆ 557       ┆           │\n",
       "│ 100000009  ┆ R          ┆ 30859.2458 ┆ 32.727422 ┆ 3.3945e6  ┆ 3600.0164 ┆ 39104.044 ┆ 50.638837 │\n",
       "│            ┆            ┆ 07         ┆           ┆           ┆ 07        ┆ 557       ┆           │\n",
       "└────────────┴────────────┴────────────┴───────────┴───────────┴───────────┴───────────┴───────────┘"
      ]
     },
     "execution_count": 19,
     "metadata": {},
     "output_type": "execute_result"
    }
   ],
   "source": [
    "# FOR TESTING (LATER ON)\n",
    "\n",
    "# Create df_sample example\n",
    "df_sample = pl.DataFrame(\n",
    "    {\n",
    "        \"RINPERSOON\": range(100_000_000, 100_000_010),\n",
    "        \"RINPERSOONS\": [\"R\"]*10\n",
    "    }\n",
    ")\n",
    "\n",
    "df_agg = pl.DataFrame(\n",
    "    {\n",
    "        \"RINPERSOON\":   range(100_000_000, 100_000_010),\n",
    "        \"RINPERSOONS\":  [\"R\"]*10,\n",
    "        \"Income\":       [random.normalvariate(30000, 5000) for _ in range(10)],\n",
    "        \"Age\":          [random.normalvariate(30, 10) for _ in range(10)]\n",
    "    }\n",
    ")\n",
    "\n",
    "query =  \"[Income, Age] -> Family[all] -> Schoolmates[all] -> Sample\"\n",
    "\n",
    "df = netcbs.transform(query, \n",
    "               df_sample = df_sample, \n",
    "               df_agg = df_agg, \n",
    "               year=2020,\n",
    "               cbsdata_path='cbsdata/Bevolking', # Path to the CBS data (\"G:/Bevolking\"), in this example is synthetic data locally \n",
    "               agg_func=[pl.mean, pl.sum, pl.max], \n",
    "               return_pandas=False, \n",
    "               lazy=True)\n",
    "\n",
    "df    "
   ]
  },
  {
   "cell_type": "code",
   "execution_count": null,
   "metadata": {},
   "outputs": [],
   "source": []
  }
 ],
 "metadata": {
  "kernelspec": {
   "display_name": "st",
   "language": "python",
   "name": "python3"
  },
  "language_info": {
   "codemirror_mode": {
    "name": "ipython",
    "version": 3
   },
   "file_extension": ".py",
   "mimetype": "text/x-python",
   "name": "python",
   "nbconvert_exporter": "python",
   "pygments_lexer": "ipython3",
   "version": "3.10.12"
  }
 },
 "nbformat": 4,
 "nbformat_minor": 2
}
