{
 "cells": [
  {
   "cell_type": "code",
   "execution_count": 30,
   "metadata": {},
   "outputs": [],
   "source": [
    "import random\n",
    "import polars as pl\n",
    "\n",
    "import netcbs as net"
   ]
  },
  {
   "cell_type": "code",
   "execution_count": 31,
   "metadata": {},
   "outputs": [
    {
     "name": "stdout",
     "output_type": "stream",
     "text": [
      "{'Family': {301, 302, 303, 304, 305, 306, 307, 308, 309, 310, 311, 312, 313, 314, 315, 316, 317, 318, 319, 320, 321, 322}, 'Colleagues': {201}, 'Neighbors': {101, 102}, 'Schoolmates': {501, 502, 503, 504, 505, 506}, 'Housemates': {401, 402}}\n",
      "{101: 'Neighbor - 10 closest addresses', 102: 'Neighborhood acquaintance - 20 random neighbors within 200 meters', 201: 'Colleague', 301: 'Parent', 302: 'Co-parent', 303: 'Grandparent', 304: 'Child', 305: 'Grandchild', 306: 'Full sibling', 307: 'Half sibling', 308: 'Unknown sibling', 309: 'Full cousin', 310: 'Cousin', 311: 'Aunt/Uncle', 312: 'Partner - married', 313: 'Partner - not married', 314: 'Parent-in-law', 315: 'Child-in-law', 316: 'Sibling-in-law', 317: 'Stepparent', 318: 'Stepchild', 319: 'Stepsibling', 320: 'Married full cousin', 321: 'Married cousin', 322: 'Married aunt/uncle', 401: 'Housemate', 402: 'Housemate - institution', 501: 'Classmate primary education', 502: 'Classmate special education', 503: 'Classmate secondary education', 504: 'Classmate vocational education', 505: 'Classmate higher professional education', 506: 'Classmate university education'}\n"
     ]
    }
   ],
   "source": [
    "# Print contexts and codebook\n",
    "print(net.context2types)\n",
    "print(net.codebook)"
   ]
  },
  {
   "cell_type": "markdown",
   "metadata": {},
   "source": [
    "### Select the sample dataframe and the dataframe with the variable to aggregate\n",
    "\n",
    "For this example we will be using synthetic data. For each context (Family, Colleagues, Neighbors, Schoolmates, Housemates), we generated a \"network file\" containing 1,000,000 relationships (see section below). Each relationship is taken at random from any of the context types (see netdbs.contexts2types).\n",
    "\n",
    "We then create two files: one with the IDs (RINPERSOON) in the sample, one with the IDs (RINPERSOON) and the variable to aggregate. In the CBS RA you will use real data."
   ]
  },
  {
   "cell_type": "code",
   "execution_count": 36,
   "metadata": {},
   "outputs": [],
   "source": [
    "# Your sample (the level of your analysis)\n",
    "df_sample = pl.DataFrame(\n",
    "    {\n",
    "        \"RINPERSOON\": [str(_) for _ in range(100_000_000, 100_010_000)],\n",
    "        \"RINPERSOONS\": [\"R\"]*10_000,\n",
    "        \"outcome\": [random.choice([0,1]) for _ in range(10_000)],\n",
    "        \"age\":     [random.normalvariate(30, 10) for _ in range(10_000)]\n",
    "    }\n",
    "    \n",
    ")\n",
    "\n",
    "# Data for all the Netherlands on the measures you want to aggreage\n",
    "df_agg = pl.LazyFrame(\n",
    "    {\n",
    "        \"RINPERSOON\":   [str(_) for _ in range(100_000_000, 101_000_000)],\n",
    "        \"RINPERSOONS\":  [\"R\"]*1_000_000,\n",
    "        \"income\":       [random.normalvariate(30000, 5000) for _ in range(1_000_000)],\n",
    "        \"number_children\": [random.choice([0,1,2,3]) for _ in range(1_000_000)],\n",
    "        \"count\":        [1]*1_000_000 \n",
    "    }\n",
    ")\n",
    "\n"
   ]
  },
  {
   "cell_type": "markdown",
   "metadata": {},
   "source": [
    "### Run query\n",
    "\n",
    "This is the most important part of the code. Here we will aggregate the variable of interest. In this case, we will aggregate the number of relationships per context."
   ]
  },
  {
   "cell_type": "code",
   "execution_count": 37,
   "metadata": {},
   "outputs": [
    {
     "name": "stderr",
     "output_type": "stream",
     "text": [
      "INFO:netcbs.netcbs:Dropping duplicated entries (if any). Check this before submitting the query or set lazy==False\n",
      "INFO:netcbs.netcbs:Dropping duplicated entries (if any). Check this before submitting the query or set lazy==False\n"
     ]
    },
    {
     "data": {
      "text/html": [
       "<div><style>\n",
       ".dataframe > thead > tr,\n",
       ".dataframe > tbody > tr {\n",
       "  text-align: right;\n",
       "  white-space: pre-wrap;\n",
       "}\n",
       "</style>\n",
       "<small>shape: (10_000, 13)</small><table border=\"1\" class=\"dataframe\"><thead><tr><th>RINPERSOON</th><th>RINPERSOONS</th><th>outcome</th><th>age</th><th>mean_income</th><th>mean_number_children</th><th>mean_count</th><th>sum_income</th><th>sum_number_children</th><th>sum_count</th><th>max_income</th><th>max_number_children</th><th>max_count</th></tr><tr><td>str</td><td>str</td><td>i64</td><td>f64</td><td>f64</td><td>f64</td><td>f64</td><td>f64</td><td>i64</td><td>i64</td><td>f64</td><td>i64</td><td>i64</td></tr></thead><tbody><tr><td>&quot;100000000&quot;</td><td>&quot;R&quot;</td><td>0</td><td>40.172373</td><td>28421.175621</td><td>1.875</td><td>1.0</td><td>227369.404967</td><td>15</td><td>8</td><td>33634.868331</td><td>3</td><td>1</td></tr><tr><td>&quot;100000001&quot;</td><td>&quot;R&quot;</td><td>1</td><td>33.479395</td><td>26408.690763</td><td>1.5</td><td>1.0</td><td>158452.144579</td><td>9</td><td>6</td><td>31544.134458</td><td>2</td><td>1</td></tr><tr><td>&quot;100000002&quot;</td><td>&quot;R&quot;</td><td>0</td><td>29.041263</td><td>24888.908492</td><td>0.5</td><td>1.0</td><td>99555.633966</td><td>2</td><td>4</td><td>28661.583601</td><td>2</td><td>1</td></tr><tr><td>&quot;100000003&quot;</td><td>&quot;R&quot;</td><td>1</td><td>14.494025</td><td>36714.226866</td><td>2.0</td><td>1.0</td><td>146856.907463</td><td>8</td><td>4</td><td>42391.515627</td><td>3</td><td>1</td></tr><tr><td>&quot;100000004&quot;</td><td>&quot;R&quot;</td><td>0</td><td>16.608723</td><td>35368.323366</td><td>2.2</td><td>1.0</td><td>176841.616832</td><td>11</td><td>5</td><td>40536.70032</td><td>3</td><td>1</td></tr><tr><td>&hellip;</td><td>&hellip;</td><td>&hellip;</td><td>&hellip;</td><td>&hellip;</td><td>&hellip;</td><td>&hellip;</td><td>&hellip;</td><td>&hellip;</td><td>&hellip;</td><td>&hellip;</td><td>&hellip;</td><td>&hellip;</td></tr><tr><td>&quot;100009995&quot;</td><td>&quot;R&quot;</td><td>0</td><td>13.135631</td><td>29757.908388</td><td>1.6</td><td>1.0</td><td>148789.541939</td><td>8</td><td>5</td><td>35591.833033</td><td>3</td><td>1</td></tr><tr><td>&quot;100009996&quot;</td><td>&quot;R&quot;</td><td>1</td><td>47.612453</td><td>31296.180819</td><td>1.25</td><td>1.0</td><td>250369.446551</td><td>10</td><td>8</td><td>38006.859021</td><td>3</td><td>1</td></tr><tr><td>&quot;100009997&quot;</td><td>&quot;R&quot;</td><td>1</td><td>33.239322</td><td>19702.47802</td><td>2.333333</td><td>1.0</td><td>59107.43406</td><td>7</td><td>3</td><td>32228.863963</td><td>3</td><td>1</td></tr><tr><td>&quot;100009998&quot;</td><td>&quot;R&quot;</td><td>1</td><td>33.342422</td><td>32885.125261</td><td>1.222222</td><td>1.0</td><td>295966.127349</td><td>11</td><td>9</td><td>40461.686903</td><td>3</td><td>1</td></tr><tr><td>&quot;100009999&quot;</td><td>&quot;R&quot;</td><td>1</td><td>23.198977</td><td>30550.101675</td><td>1.428571</td><td>1.0</td><td>213850.711724</td><td>10</td><td>7</td><td>40087.800888</td><td>3</td><td>1</td></tr></tbody></table></div>"
      ],
      "text/plain": [
       "shape: (10_000, 13)\n",
       "┌────────────┬───────────┬─────────┬───────────┬───┬───────────┬───────────┬───────────┬───────────┐\n",
       "│ RINPERSOON ┆ RINPERSOO ┆ outcome ┆ age       ┆ … ┆ sum_count ┆ max_incom ┆ max_numbe ┆ max_count │\n",
       "│ ---        ┆ NS        ┆ ---     ┆ ---       ┆   ┆ ---       ┆ e         ┆ r_childre ┆ ---       │\n",
       "│ str        ┆ ---       ┆ i64     ┆ f64       ┆   ┆ i64       ┆ ---       ┆ n         ┆ i64       │\n",
       "│            ┆ str       ┆         ┆           ┆   ┆           ┆ f64       ┆ ---       ┆           │\n",
       "│            ┆           ┆         ┆           ┆   ┆           ┆           ┆ i64       ┆           │\n",
       "╞════════════╪═══════════╪═════════╪═══════════╪═══╪═══════════╪═══════════╪═══════════╪═══════════╡\n",
       "│ 100000000  ┆ R         ┆ 0       ┆ 40.172373 ┆ … ┆ 8         ┆ 33634.868 ┆ 3         ┆ 1         │\n",
       "│            ┆           ┆         ┆           ┆   ┆           ┆ 331       ┆           ┆           │\n",
       "│ 100000001  ┆ R         ┆ 1       ┆ 33.479395 ┆ … ┆ 6         ┆ 31544.134 ┆ 2         ┆ 1         │\n",
       "│            ┆           ┆         ┆           ┆   ┆           ┆ 458       ┆           ┆           │\n",
       "│ 100000002  ┆ R         ┆ 0       ┆ 29.041263 ┆ … ┆ 4         ┆ 28661.583 ┆ 2         ┆ 1         │\n",
       "│            ┆           ┆         ┆           ┆   ┆           ┆ 601       ┆           ┆           │\n",
       "│ 100000003  ┆ R         ┆ 1       ┆ 14.494025 ┆ … ┆ 4         ┆ 42391.515 ┆ 3         ┆ 1         │\n",
       "│            ┆           ┆         ┆           ┆   ┆           ┆ 627       ┆           ┆           │\n",
       "│ 100000004  ┆ R         ┆ 0       ┆ 16.608723 ┆ … ┆ 5         ┆ 40536.700 ┆ 3         ┆ 1         │\n",
       "│            ┆           ┆         ┆           ┆   ┆           ┆ 32        ┆           ┆           │\n",
       "│ …          ┆ …         ┆ …       ┆ …         ┆ … ┆ …         ┆ …         ┆ …         ┆ …         │\n",
       "│ 100009995  ┆ R         ┆ 0       ┆ 13.135631 ┆ … ┆ 5         ┆ 35591.833 ┆ 3         ┆ 1         │\n",
       "│            ┆           ┆         ┆           ┆   ┆           ┆ 033       ┆           ┆           │\n",
       "│ 100009996  ┆ R         ┆ 1       ┆ 47.612453 ┆ … ┆ 8         ┆ 38006.859 ┆ 3         ┆ 1         │\n",
       "│            ┆           ┆         ┆           ┆   ┆           ┆ 021       ┆           ┆           │\n",
       "│ 100009997  ┆ R         ┆ 1       ┆ 33.239322 ┆ … ┆ 3         ┆ 32228.863 ┆ 3         ┆ 1         │\n",
       "│            ┆           ┆         ┆           ┆   ┆           ┆ 963       ┆           ┆           │\n",
       "│ 100009998  ┆ R         ┆ 1       ┆ 33.342422 ┆ … ┆ 9         ┆ 40461.686 ┆ 3         ┆ 1         │\n",
       "│            ┆           ┆         ┆           ┆   ┆           ┆ 903       ┆           ┆           │\n",
       "│ 100009999  ┆ R         ┆ 1       ┆ 23.198977 ┆ … ┆ 7         ┆ 40087.800 ┆ 3         ┆ 1         │\n",
       "│            ┆           ┆         ┆           ┆   ┆           ┆ 888       ┆           ┆           │\n",
       "└────────────┴───────────┴─────────┴───────────┴───┴───────────┴───────────┴───────────┴───────────┘"
      ]
     },
     "execution_count": 37,
     "metadata": {},
     "output_type": "execute_result"
    }
   ],
   "source": [
    "## Query: The income of the parent's of the schoolmates of the children in the sample\n",
    "\n",
    "## How to construct the query\n",
    "# 1. Start with the variables that you want to aggregate, e.g. \"[Income, Age] ->\"\n",
    "# 2. Then add the relationships between the tables, e.g., \"[Income, Age] -> Family[301]\".\n",
    "# In square brackets you can specify the type of the relationships: \n",
    "# write [all] for all, or [301,302] for parents and co-parents\n",
    "# 3. You can add several tables: \"[Income, Age] -> Family[301] -> Schoolmates[all]\"\n",
    "# 4. Finally, you must write \"-> Sample\" \n",
    "\n",
    "## Other parameters\n",
    "# df_sample: the sample dataframe (with the people you want to have information on)\n",
    "# df_agg: the dataframe with the information you want to aggregate. For example, the income of all people in the country\n",
    "# year: the year of the data you want to use\n",
    "# agg_func: the aggregation function you want to use. For example, pl.mean or pl.sum\n",
    "# return_pandas: if True, the function returns a pandas dataframe. If False, it returns a polars dataframe\n",
    "# lazy: if True, the operations are concatenated lazily and computed at the end. If False, the operations are computed immediately\n",
    "# cbdata_path: the path to the CBS data. Usually this is \"G:/Bevolking\". In this example, we use synthetic data saved in \"cbsdata/Bevolking\". \n",
    "\n",
    "\n",
    "## The transform function validates the query before running it\n",
    "\n",
    "# Example\n",
    "query =  \"[income, number_children, count] -> Family[all] -> Schoolmates[all] -> Sample\"\n",
    "\n",
    "df = net.transform(query, \n",
    "               df_sample = df_sample, \n",
    "               df_agg = df_agg, \n",
    "               year=2021,\n",
    "               cbsdata_path='cbsdata/Bevolking', # Path to the CBS data (\"G:/Bevolking\"), in this example is synthetic data locally \n",
    "               agg_funcs=[pl.mean, pl.sum, pl.max], \n",
    "               return_pandas=False, \n",
    "               lazy=True)\n",
    "\n",
    "df    "
   ]
  },
  {
   "cell_type": "markdown",
   "metadata": {},
   "source": [
    "## Create synthetic data (not needed at CBS!)\n",
    "\n",
    "Let's create some synthetic data to explain how the code works\n",
    "\n",
    "For each context (Family, Colleagues, Neighbors, Schoolmates, Housemates), we will generate a \"network file\" containing 1,000,000 relationsihps. Each relationship is taken at random from any of the context types (see netdbs.contexts2types).\n"
   ]
  },
  {
   "cell_type": "code",
   "execution_count": 3,
   "metadata": {},
   "outputs": [],
   "source": [
    "net.create_synthetic_data(\"Family\", 2021, 1_000_000, outpath=\"cbsdata/Bevolking\")\n",
    "net.create_synthetic_data(\"Colleagues\", 2021, 1_000_000, outpath=\"cbsdata/Bevolking\")\n",
    "net.create_synthetic_data(\"Neighbors\", 2021, 1_000_000, outpath=\"cbsdata/Bevolking\")\n",
    "net.create_synthetic_data(\"Schoolmates\", 2021, 1_000_000, outpath=\"cbsdata/Bevolking\")\n",
    "net.create_synthetic_data(\"Housemates\", 2021, 1_000_000, outpath=\"cbsdata/Bevolking\")\n"
   ]
  },
  {
   "cell_type": "markdown",
   "metadata": {},
   "source": [
    "## Reading data directly with polars"
   ]
  },
  {
   "cell_type": "code",
   "execution_count": 38,
   "metadata": {},
   "outputs": [
    {
     "data": {
      "text/html": [
       "<div><style>\n",
       ".dataframe > thead > tr,\n",
       ".dataframe > tbody > tr {\n",
       "  text-align: right;\n",
       "  white-space: pre-wrap;\n",
       "}\n",
       "</style>\n",
       "<small>shape: (10, 5)</small><table border=\"1\" class=\"dataframe\"><thead><tr><th>RINPERSOON</th><th>RINPERSOONS</th><th>RINPERSOONRELATIE</th><th>RINPERSOONSRELATIE</th><th>RELATIE</th></tr><tr><td>str</td><td>str</td><td>i64</td><td>str</td><td>i64</td></tr></thead><tbody><tr><td>&quot;100439107&quot;</td><td>&quot;R&quot;</td><td>100342679</td><td>&quot;R&quot;</td><td>310</td></tr><tr><td>&quot;100086293&quot;</td><td>&quot;R&quot;</td><td>100108614</td><td>&quot;R&quot;</td><td>310</td></tr><tr><td>&quot;100150055&quot;</td><td>&quot;R&quot;</td><td>100058381</td><td>&quot;R&quot;</td><td>317</td></tr><tr><td>&quot;100453751&quot;</td><td>&quot;R&quot;</td><td>100448572</td><td>&quot;R&quot;</td><td>313</td></tr><tr><td>&quot;100325504&quot;</td><td>&quot;R&quot;</td><td>100041245</td><td>&quot;R&quot;</td><td>315</td></tr><tr><td>&quot;100211113&quot;</td><td>&quot;R&quot;</td><td>100402661</td><td>&quot;R&quot;</td><td>314</td></tr><tr><td>&quot;100312768&quot;</td><td>&quot;R&quot;</td><td>100415389</td><td>&quot;R&quot;</td><td>317</td></tr><tr><td>&quot;100302277&quot;</td><td>&quot;R&quot;</td><td>100091753</td><td>&quot;R&quot;</td><td>315</td></tr><tr><td>&quot;100024777&quot;</td><td>&quot;R&quot;</td><td>100126339</td><td>&quot;R&quot;</td><td>313</td></tr><tr><td>&quot;100387455&quot;</td><td>&quot;R&quot;</td><td>100439892</td><td>&quot;R&quot;</td><td>316</td></tr></tbody></table></div>"
      ],
      "text/plain": [
       "shape: (10, 5)\n",
       "┌────────────┬─────────────┬───────────────────┬────────────────────┬─────────┐\n",
       "│ RINPERSOON ┆ RINPERSOONS ┆ RINPERSOONRELATIE ┆ RINPERSOONSRELATIE ┆ RELATIE │\n",
       "│ ---        ┆ ---         ┆ ---               ┆ ---                ┆ ---     │\n",
       "│ str        ┆ str         ┆ i64               ┆ str                ┆ i64     │\n",
       "╞════════════╪═════════════╪═══════════════════╪════════════════════╪═════════╡\n",
       "│ 100439107  ┆ R           ┆ 100342679         ┆ R                  ┆ 310     │\n",
       "│ 100086293  ┆ R           ┆ 100108614         ┆ R                  ┆ 310     │\n",
       "│ 100150055  ┆ R           ┆ 100058381         ┆ R                  ┆ 317     │\n",
       "│ 100453751  ┆ R           ┆ 100448572         ┆ R                  ┆ 313     │\n",
       "│ 100325504  ┆ R           ┆ 100041245         ┆ R                  ┆ 315     │\n",
       "│ 100211113  ┆ R           ┆ 100402661         ┆ R                  ┆ 314     │\n",
       "│ 100312768  ┆ R           ┆ 100415389         ┆ R                  ┆ 317     │\n",
       "│ 100302277  ┆ R           ┆ 100091753         ┆ R                  ┆ 315     │\n",
       "│ 100024777  ┆ R           ┆ 100126339         ┆ R                  ┆ 313     │\n",
       "│ 100387455  ┆ R           ┆ 100439892         ┆ R                  ┆ 316     │\n",
       "└────────────┴─────────────┴───────────────────┴────────────────────┴─────────┘"
      ]
     },
     "execution_count": 38,
     "metadata": {},
     "output_type": "execute_result"
    }
   ],
   "source": [
    "import polars as pl\n",
    "pl.read_csv(\"cbsdata/Bevolking/FAMILIENETWERKTAB/FAMILIENETWERK2021TABV1.csv\", \n",
    "             n_rows=10, separator=\";\", dtypes={\"RINPERSOON\": str})"
   ]
  },
  {
   "cell_type": "code",
   "execution_count": null,
   "metadata": {},
   "outputs": [],
   "source": []
  }
 ],
 "metadata": {
  "kernelspec": {
   "display_name": "st",
   "language": "python",
   "name": "python3"
  },
  "language_info": {
   "codemirror_mode": {
    "name": "ipython",
    "version": 3
   },
   "file_extension": ".py",
   "mimetype": "text/x-python",
   "name": "python",
   "nbconvert_exporter": "python",
   "pygments_lexer": "ipython3",
   "version": "3.10.12"
  }
 },
 "nbformat": 4,
 "nbformat_minor": 2
}
