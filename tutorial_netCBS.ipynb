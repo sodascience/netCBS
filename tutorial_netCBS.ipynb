{
 "cells": [
  {
   "cell_type": "code",
   "execution_count": 1,
   "metadata": {},
   "outputs": [],
   "source": [
    "import random\n",
    "import polars as pl\n",
    "\n",
    "import netcbs"
   ]
  },
  {
   "cell_type": "code",
   "execution_count": 2,
   "metadata": {},
   "outputs": [
    {
     "name": "stdout",
     "output_type": "stream",
     "text": [
      "{'Family': {301, 302, 303, 304, 305, 306, 307, 308, 309, 310, 311, 312, 313, 314, 315, 316, 317, 318, 319, 320, 321, 322}, 'Colleagues': {201}, 'Neighbors': {101, 102}, 'Schoolmates': {501, 502, 503, 504, 505, 506}, 'Housemates': {401, 402}}\n",
      "{101: 'Neighbor - 10 closest addresses', 102: 'Neighborhood acquaintance - 20 random neighbors within 200 meters', 201: 'Colleague', 301: 'Parent', 302: 'Co-parent', 303: 'Grandparent', 304: 'Child', 305: 'Grandchild', 306: 'Full sibling', 307: 'Half sibling', 308: 'Unknown sibling', 309: 'Full cousin', 310: 'Cousin', 311: 'Aunt/Uncle', 312: 'Partner - married', 313: 'Partner - not married', 314: 'Parent-in-law', 315: 'Child-in-law', 316: 'Sibling-in-law', 317: 'Stepparent', 318: 'Stepchild', 319: 'Stepsibling', 320: 'Married full cousin', 321: 'Married cousin', 322: 'Married aunt/uncle', 401: 'Housemate', 402: 'Housemate - institution', 501: 'Classmate primary education', 502: 'Classmate special education', 503: 'Classmate secondary education', 504: 'Classmate vocational education', 505: 'Classmate higher professional education', 506: 'Classmate university education'}\n"
     ]
    }
   ],
   "source": [
    "# Print contexts and codebook\n",
    "print(netcbs.context2types)\n",
    "print(netcbs.codebook)"
   ]
  },
  {
   "cell_type": "markdown",
   "metadata": {},
   "source": [
    "### Select the sample dataframe and the dataframe with the variable to aggregate\n",
    "\n",
    "For this example we will be using synthetic data. For each context (Family, Colleagues, Neighbors, Schoolmates, Housemates), we generated a \"network file\" containing 1,000,000 relationships (see section below). Each relationship is taken at random from any of the context types (see netdbs.contexts2types).\n",
    "\n",
    "We then create two files: one with the IDs (RINPERSOON) in the sample, one with the IDs (RINPERSOON) and the variable to aggregate. In the CBS RA you will use real data."
   ]
  },
  {
   "cell_type": "code",
   "execution_count": 5,
   "metadata": {},
   "outputs": [],
   "source": [
    "# Create df_sample example\n",
    "df_sample = pl.DataFrame(\n",
    "    {\n",
    "        \"RINPERSOON\": range(100_000_000, 100_010_000),\n",
    "        \"RINPERSOONS\": [\"R\"]*10_000\n",
    "    }\n",
    ")\n",
    "\n",
    "df_agg = pl.DataFrame(\n",
    "    {\n",
    "        \"RINPERSOON\":   range(100_000_000, 100_500_000),\n",
    "        \"RINPERSOONS\":  [\"R\"]*500_000,\n",
    "        \"Income\":       [random.normalvariate(30000, 5000) for _ in range(500_000)],\n",
    "        \"Age\":          [random.normalvariate(30, 10) for _ in range(500_000)]\n",
    "    }\n",
    ")\n",
    "\n"
   ]
  },
  {
   "cell_type": "markdown",
   "metadata": {},
   "source": [
    "### Run query\n",
    "\n",
    "This is the most important part of the code. Here we will aggregate the variable of interest. In this case, we will aggregate the number of relationships per context."
   ]
  },
  {
   "cell_type": "code",
   "execution_count": 7,
   "metadata": {},
   "outputs": [
    {
     "data": {
      "text/html": [
       "<div><style>\n",
       ".dataframe > thead > tr,\n",
       ".dataframe > tbody > tr {\n",
       "  text-align: right;\n",
       "  white-space: pre-wrap;\n",
       "}\n",
       "</style>\n",
       "<small>shape: (10_000, 8)</small><table border=\"1\" class=\"dataframe\"><thead><tr><th>RINPERSOON</th><th>RINPERSOONS</th><th>mean_Income</th><th>mean_Age</th><th>sum_Income</th><th>sum_Age</th><th>max_Income</th><th>max_Age</th></tr><tr><td>i64</td><td>str</td><td>f64</td><td>f64</td><td>f64</td><td>f64</td><td>f64</td><td>f64</td></tr></thead><tbody><tr><td>100000000</td><td>&quot;R&quot;</td><td>null</td><td>null</td><td>null</td><td>null</td><td>null</td><td>null</td></tr><tr><td>100000001</td><td>&quot;R&quot;</td><td>23563.020593</td><td>28.113413</td><td>47126.041185</td><td>56.226826</td><td>28302.789867</td><td>36.629473</td></tr><tr><td>100000002</td><td>&quot;R&quot;</td><td>null</td><td>null</td><td>null</td><td>null</td><td>null</td><td>null</td></tr><tr><td>100000003</td><td>&quot;R&quot;</td><td>32550.805986</td><td>32.185977</td><td>65101.611971</td><td>64.371954</td><td>33606.460227</td><td>37.592311</td></tr><tr><td>100000004</td><td>&quot;R&quot;</td><td>null</td><td>null</td><td>null</td><td>null</td><td>null</td><td>null</td></tr><tr><td>&hellip;</td><td>&hellip;</td><td>&hellip;</td><td>&hellip;</td><td>&hellip;</td><td>&hellip;</td><td>&hellip;</td><td>&hellip;</td></tr><tr><td>100009995</td><td>&quot;R&quot;</td><td>33743.89044</td><td>17.139401</td><td>67487.78088</td><td>34.278801</td><td>36074.331943</td><td>26.296811</td></tr><tr><td>100009996</td><td>&quot;R&quot;</td><td>null</td><td>null</td><td>null</td><td>null</td><td>null</td><td>null</td></tr><tr><td>100009997</td><td>&quot;R&quot;</td><td>null</td><td>null</td><td>null</td><td>null</td><td>null</td><td>null</td></tr><tr><td>100009998</td><td>&quot;R&quot;</td><td>35975.875574</td><td>43.344039</td><td>71951.751147</td><td>86.688079</td><td>37016.237929</td><td>51.345133</td></tr><tr><td>100009999</td><td>&quot;R&quot;</td><td>null</td><td>null</td><td>null</td><td>null</td><td>null</td><td>null</td></tr></tbody></table></div>"
      ],
      "text/plain": [
       "shape: (10_000, 8)\n",
       "┌────────────┬────────────┬────────────┬───────────┬───────────┬───────────┬───────────┬───────────┐\n",
       "│ RINPERSOON ┆ RINPERSOON ┆ mean_Incom ┆ mean_Age  ┆ sum_Incom ┆ sum_Age   ┆ max_Incom ┆ max_Age   │\n",
       "│ ---        ┆ S          ┆ e          ┆ ---       ┆ e         ┆ ---       ┆ e         ┆ ---       │\n",
       "│ i64        ┆ ---        ┆ ---        ┆ f64       ┆ ---       ┆ f64       ┆ ---       ┆ f64       │\n",
       "│            ┆ str        ┆ f64        ┆           ┆ f64       ┆           ┆ f64       ┆           │\n",
       "╞════════════╪════════════╪════════════╪═══════════╪═══════════╪═══════════╪═══════════╪═══════════╡\n",
       "│ 100000000  ┆ R          ┆ null       ┆ null      ┆ null      ┆ null      ┆ null      ┆ null      │\n",
       "│ 100000001  ┆ R          ┆ 23563.0205 ┆ 28.113413 ┆ 47126.041 ┆ 56.226826 ┆ 28302.789 ┆ 36.629473 │\n",
       "│            ┆            ┆ 93         ┆           ┆ 185       ┆           ┆ 867       ┆           │\n",
       "│ 100000002  ┆ R          ┆ null       ┆ null      ┆ null      ┆ null      ┆ null      ┆ null      │\n",
       "│ 100000003  ┆ R          ┆ 32550.8059 ┆ 32.185977 ┆ 65101.611 ┆ 64.371954 ┆ 33606.460 ┆ 37.592311 │\n",
       "│            ┆            ┆ 86         ┆           ┆ 971       ┆           ┆ 227       ┆           │\n",
       "│ 100000004  ┆ R          ┆ null       ┆ null      ┆ null      ┆ null      ┆ null      ┆ null      │\n",
       "│ …          ┆ …          ┆ …          ┆ …         ┆ …         ┆ …         ┆ …         ┆ …         │\n",
       "│ 100009995  ┆ R          ┆ 33743.8904 ┆ 17.139401 ┆ 67487.780 ┆ 34.278801 ┆ 36074.331 ┆ 26.296811 │\n",
       "│            ┆            ┆ 4          ┆           ┆ 88        ┆           ┆ 943       ┆           │\n",
       "│ 100009996  ┆ R          ┆ null       ┆ null      ┆ null      ┆ null      ┆ null      ┆ null      │\n",
       "│ 100009997  ┆ R          ┆ null       ┆ null      ┆ null      ┆ null      ┆ null      ┆ null      │\n",
       "│ 100009998  ┆ R          ┆ 35975.8755 ┆ 43.344039 ┆ 71951.751 ┆ 86.688079 ┆ 37016.237 ┆ 51.345133 │\n",
       "│            ┆            ┆ 74         ┆           ┆ 147       ┆           ┆ 929       ┆           │\n",
       "│ 100009999  ┆ R          ┆ null       ┆ null      ┆ null      ┆ null      ┆ null      ┆ null      │\n",
       "└────────────┴────────────┴────────────┴───────────┴───────────┴───────────┴───────────┴───────────┘"
      ]
     },
     "execution_count": 7,
     "metadata": {},
     "output_type": "execute_result"
    }
   ],
   "source": [
    "## Query: The income of the parent's of the schoolmates of the children in the sample\n",
    "\n",
    "## How to construct the query\n",
    "# 1. Start with the variables that you want to aggregate, e.g. \"[Income, Age] ->\"\n",
    "# 2. Then add the relationships between the tables, e.g., \"[Income, Age] -> Family[301]\".\n",
    "# In square brackets you can specify the type of the relationships: \n",
    "# write [all] for all, or [301,302] for parents and co-parents\n",
    "# 3. You can add several tables: \"[Income, Age] -> Family[301] -> Schoolmates[all]\"\n",
    "# 4. Finally, you must write \"-> Sample\" \n",
    "\n",
    "## Other parameters\n",
    "# df_sample: the sample dataframe (with the people you want to have information on)\n",
    "# df_agg: the dataframe with the information you want to aggregate. For example, the income of all people in the country\n",
    "# year: the year of the data you want to use\n",
    "# agg_func: the aggregation function you want to use. For example, pl.mean or pl.sum\n",
    "# return_pandas: if True, the function returns a pandas dataframe. If False, it returns a polars dataframe\n",
    "# lazy: if True, the operations are concatenated lazily and computed at the end. If False, the operations are computed immediately\n",
    "# cbdata_path: the path to the CBS data. Usually this is \"G:/Bevolking\". In this example, we use synthetic data saved in \"cbsdata/Bevolking\". \n",
    "\n",
    "\n",
    "## The transform function validates the query before running it\n",
    "\n",
    "# Example\n",
    "query =  \"[Income, Age] -> Family[301,302,303] -> Schoolmates[all] -> Sample\"\n",
    "\n",
    "df = netcbs.transform(query, \n",
    "               df_sample = df_sample, \n",
    "               df_agg = df_agg, \n",
    "               year=2021,\n",
    "               cbsdata_path='cbsdata/Bevolking', # Path to the CBS data (\"G:/Bevolking\"), in this example is synthetic data locally \n",
    "               agg_func=[pl.mean, pl.sum, pl.max], \n",
    "               return_pandas=False, \n",
    "               lazy=True)\n",
    "\n",
    "df    "
   ]
  },
  {
   "cell_type": "code",
   "execution_count": 6,
   "metadata": {},
   "outputs": [
    {
     "data": {
      "text/plain": [
       "['Sample', 'Schoolmates[all]', 'Family[301,302,303]', 'Income']"
      ]
     },
     "execution_count": 6,
     "metadata": {},
     "output_type": "execute_result"
    }
   ],
   "source": [
    "# You can also validate the query before running it\n",
    "query =  \"Income -> Family[301,302,303] -> Schoolmates[all] -> Sample\"\n",
    "netcbs.validate_query(query, \n",
    "               df_sample = df_sample, \n",
    "               df_agg = df_agg, \n",
    "               year=2021,\n",
    "               cbsdata_path='cbsdata/Bevolking', # Path to the CBS data, in this example is synthetic data locally \n",
    ")"
   ]
  },
  {
   "cell_type": "code",
   "execution_count": 7,
   "metadata": {},
   "outputs": [
    {
     "data": {
      "text/plain": [
       "('cbsdata/Bevolking/FAMILIENETWERKTAB/FAMILIENETWERKTAB2010V1.csv', {301})"
      ]
     },
     "execution_count": 7,
     "metadata": {},
     "output_type": "execute_result"
    }
   ],
   "source": [
    "# Create path to latest verion of CBS data\n",
    "netcbs.format_path(context='Family[301]', year=2010, cbsdata_path='cbsdata/Bevolking')"
   ]
  },
  {
   "cell_type": "code",
   "execution_count": null,
   "metadata": {},
   "outputs": [],
   "source": []
  },
  {
   "cell_type": "markdown",
   "metadata": {},
   "source": [
    "## Create synthetic data (not needed at CBS!)\n",
    "\n",
    "Let's create some synthetic data to explain how the code works\n",
    "\n",
    "For each context (Family, Colleagues, Neighbors, Schoolmates, Housemates), we will generate a \"network file\" containing 1,000,000 relationsihps. Each relationship is taken at random from any of the context types (see netdbs.contexts2types).\n"
   ]
  },
  {
   "cell_type": "code",
   "execution_count": 3,
   "metadata": {},
   "outputs": [],
   "source": [
    "netcbs.create_synthetic_data(\"Family\", 2021, 1_000_000, outpath=\"cbsdata/Bevolking\")\n",
    "netcbs.create_synthetic_data(\"Colleagues\", 2021, 1_000_000, outpath=\"cbsdata/Bevolking\")\n",
    "netcbs.create_synthetic_data(\"Neighbors\", 2021, 1_000_000, outpath=\"cbsdata/Bevolking\")\n",
    "netcbs.create_synthetic_data(\"Schoolmates\", 2021, 1_000_000, outpath=\"cbsdata/Bevolking\")\n",
    "netcbs.create_synthetic_data(\"Housemates\", 2021, 1_000_000, outpath=\"cbsdata/Bevolking\")\n"
   ]
  },
  {
   "cell_type": "code",
   "execution_count": null,
   "metadata": {},
   "outputs": [],
   "source": []
  }
 ],
 "metadata": {
  "kernelspec": {
   "display_name": "st",
   "language": "python",
   "name": "python3"
  },
  "language_info": {
   "codemirror_mode": {
    "name": "ipython",
    "version": 3
   },
   "file_extension": ".py",
   "mimetype": "text/x-python",
   "name": "python",
   "nbconvert_exporter": "python",
   "pygments_lexer": "ipython3",
   "version": "3.10.12"
  }
 },
 "nbformat": 4,
 "nbformat_minor": 2
}
