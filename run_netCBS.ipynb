{
 "cells": [
  {
   "cell_type": "code",
   "execution_count": 52,
   "metadata": {},
   "outputs": [
    {
     "name": "stdout",
     "output_type": "stream",
     "text": [
      "The autoreload extension is already loaded. To reload it, use:\n",
      "  %reload_ext autoreload\n"
     ]
    }
   ],
   "source": [
    "%load_ext autoreload\n",
    "%autoreload 2\n",
    "\n",
    "\n",
    "from netcbs_ import *\n",
    "import numpy as np\n",
    "import polars as pl"
   ]
  },
  {
   "cell_type": "code",
   "execution_count": 69,
   "metadata": {},
   "outputs": [
    {
     "data": {
      "text/html": [
       "<div><style>\n",
       ".dataframe > thead > tr,\n",
       ".dataframe > tbody > tr {\n",
       "  text-align: right;\n",
       "  white-space: pre-wrap;\n",
       "}\n",
       "</style>\n",
       "<small>shape: (10_000, 3)</small><table border=\"1\" class=\"dataframe\"><thead><tr><th>RINPERSOON</th><th>RINPERSOONS</th><th>Income</th></tr><tr><td>i64</td><td>str</td><td>f64</td></tr></thead><tbody><tr><td>100000000</td><td>&quot;R&quot;</td><td>null</td></tr><tr><td>100000001</td><td>&quot;R&quot;</td><td>null</td></tr><tr><td>100000002</td><td>&quot;R&quot;</td><td>23742.390424</td></tr><tr><td>100000003</td><td>&quot;R&quot;</td><td>null</td></tr><tr><td>100000004</td><td>&quot;R&quot;</td><td>null</td></tr><tr><td>&hellip;</td><td>&hellip;</td><td>&hellip;</td></tr><tr><td>100009995</td><td>&quot;R&quot;</td><td>null</td></tr><tr><td>100009996</td><td>&quot;R&quot;</td><td>null</td></tr><tr><td>100009997</td><td>&quot;R&quot;</td><td>null</td></tr><tr><td>100009998</td><td>&quot;R&quot;</td><td>null</td></tr><tr><td>100009999</td><td>&quot;R&quot;</td><td>null</td></tr></tbody></table></div>"
      ],
      "text/plain": [
       "shape: (10_000, 3)\n",
       "┌────────────┬─────────────┬──────────────┐\n",
       "│ RINPERSOON ┆ RINPERSOONS ┆ Income       │\n",
       "│ ---        ┆ ---         ┆ ---          │\n",
       "│ i64        ┆ str         ┆ f64          │\n",
       "╞════════════╪═════════════╪══════════════╡\n",
       "│ 100000000  ┆ R           ┆ null         │\n",
       "│ 100000001  ┆ R           ┆ null         │\n",
       "│ 100000002  ┆ R           ┆ 23742.390424 │\n",
       "│ 100000003  ┆ R           ┆ null         │\n",
       "│ 100000004  ┆ R           ┆ null         │\n",
       "│ …          ┆ …           ┆ …            │\n",
       "│ 100009995  ┆ R           ┆ null         │\n",
       "│ 100009996  ┆ R           ┆ null         │\n",
       "│ 100009997  ┆ R           ┆ null         │\n",
       "│ 100009998  ┆ R           ┆ null         │\n",
       "│ 100009999  ┆ R           ┆ null         │\n",
       "└────────────┴─────────────┴──────────────┘"
      ]
     },
     "execution_count": 69,
     "metadata": {},
     "output_type": "execute_result"
    }
   ],
   "source": [
    "# Create df_sample example\n",
    "df_sample = pl.DataFrame(\n",
    "    {\n",
    "        \"RINPERSOON\": range(100_000_000, 100_010_000),\n",
    "        \"RINPERSOONS\": [\"R\"]*10_000\n",
    "    }\n",
    ")\n",
    "\n",
    "df_agg = pl.DataFrame(\n",
    "    {\n",
    "        \"RINPERSOON\":   range(100_000_000, 101_000_000),\n",
    "        \"RINPERSOONS\":  [\"R\"]*1_000_000,\n",
    "        \"Income\":       30000 + np.random.randn(1_000_000)*5000\n",
    "    }\n",
    ")\n",
    "query =  \"Sample -> Schoolmates[all] -> Family[301] -> Income\"\n",
    "df = transform(query, df_sample = df_sample, df_agg = df_agg, year=2021, agg_func=pl.mean, return_pandas=False, lazy=True)\n",
    "df\n",
    "    "
   ]
  },
  {
   "cell_type": "code",
   "execution_count": null,
   "metadata": {},
   "outputs": [],
   "source": []
  }
 ],
 "metadata": {
  "kernelspec": {
   "display_name": "st",
   "language": "python",
   "name": "python3"
  },
  "language_info": {
   "codemirror_mode": {
    "name": "ipython",
    "version": 3
   },
   "file_extension": ".py",
   "mimetype": "text/x-python",
   "name": "python",
   "nbconvert_exporter": "python",
   "pygments_lexer": "ipython3",
   "version": "3.10.12"
  }
 },
 "nbformat": 4,
 "nbformat_minor": 2
}
