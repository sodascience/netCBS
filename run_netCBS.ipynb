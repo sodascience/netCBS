{
 "cells": [
  {
   "cell_type": "code",
   "execution_count": 1,
   "metadata": {},
   "outputs": [],
   "source": [
    "%load_ext autoreload\n",
    "%autoreload 2\n",
    "\n",
    "\n",
    "from netcbs_ import *\n",
    "import numpy as np\n",
    "import polars as pl"
   ]
  },
  {
   "cell_type": "code",
   "execution_count": 2,
   "metadata": {},
   "outputs": [
    {
     "data": {
      "text/html": [
       "<div><style>\n",
       ".dataframe > thead > tr,\n",
       ".dataframe > tbody > tr {\n",
       "  text-align: right;\n",
       "  white-space: pre-wrap;\n",
       "}\n",
       "</style>\n",
       "<small>shape: (10_000, 3)</small><table border=\"1\" class=\"dataframe\"><thead><tr><th>RINPERSOON</th><th>RINPERSOONS</th><th>Income</th></tr><tr><td>i64</td><td>str</td><td>f64</td></tr></thead><tbody><tr><td>100000000</td><td>&quot;R&quot;</td><td>null</td></tr><tr><td>100000001</td><td>&quot;R&quot;</td><td>null</td></tr><tr><td>100000002</td><td>&quot;R&quot;</td><td>39045.510787</td></tr><tr><td>100000003</td><td>&quot;R&quot;</td><td>null</td></tr><tr><td>100000004</td><td>&quot;R&quot;</td><td>null</td></tr><tr><td>&hellip;</td><td>&hellip;</td><td>&hellip;</td></tr><tr><td>100009995</td><td>&quot;R&quot;</td><td>null</td></tr><tr><td>100009996</td><td>&quot;R&quot;</td><td>null</td></tr><tr><td>100009997</td><td>&quot;R&quot;</td><td>null</td></tr><tr><td>100009998</td><td>&quot;R&quot;</td><td>null</td></tr><tr><td>100009999</td><td>&quot;R&quot;</td><td>null</td></tr></tbody></table></div>"
      ],
      "text/plain": [
       "shape: (10_000, 3)\n",
       "┌────────────┬─────────────┬──────────────┐\n",
       "│ RINPERSOON ┆ RINPERSOONS ┆ Income       │\n",
       "│ ---        ┆ ---         ┆ ---          │\n",
       "│ i64        ┆ str         ┆ f64          │\n",
       "╞════════════╪═════════════╪══════════════╡\n",
       "│ 100000000  ┆ R           ┆ null         │\n",
       "│ 100000001  ┆ R           ┆ null         │\n",
       "│ 100000002  ┆ R           ┆ 39045.510787 │\n",
       "│ 100000003  ┆ R           ┆ null         │\n",
       "│ 100000004  ┆ R           ┆ null         │\n",
       "│ …          ┆ …           ┆ …            │\n",
       "│ 100009995  ┆ R           ┆ null         │\n",
       "│ 100009996  ┆ R           ┆ null         │\n",
       "│ 100009997  ┆ R           ┆ null         │\n",
       "│ 100009998  ┆ R           ┆ null         │\n",
       "│ 100009999  ┆ R           ┆ null         │\n",
       "└────────────┴─────────────┴──────────────┘"
      ]
     },
     "execution_count": 2,
     "metadata": {},
     "output_type": "execute_result"
    }
   ],
   "source": [
    "# Create df_sample example\n",
    "df_sample = pl.DataFrame(\n",
    "    {\n",
    "        \"RINPERSOON\": range(100_000_000, 100_010_000),\n",
    "        \"RINPERSOONS\": [\"R\"]*10_000\n",
    "    }\n",
    ")\n",
    "\n",
    "df_agg = pl.DataFrame(\n",
    "    {\n",
    "        \"RINPERSOON\":   range(100_000_000, 101_000_000),\n",
    "        \"RINPERSOONS\":  [\"R\"]*1_000_000,\n",
    "        \"Income\":       30000 + np.random.randn(1_000_000)*5000\n",
    "    }\n",
    ")\n",
    "\n",
    "\n",
    "## How to construct the query\n",
    "# 1. Start with \"Sample ->\"\n",
    "# 2. Then add the relationships between the tables, e.g., \"Sample -> Schoolmates[all]\".\n",
    "# In square brackets you can specify the type of the relationships: \n",
    "# write [all] for all, or [301,302] for parents and co-parents\n",
    "# 3. You can add several tables: \"Sample -> Schoolmates[all] -> Family[301]\"\n",
    "# 4. Finally, you must specify the column you want to aggregate: \"Sample -> Schoolmates[all] -> Family[301] -> Income\"\n",
    "\n",
    "## Other parameters\n",
    "# df_sample: the sample dataframe (with the people you want to have information on)\n",
    "# df_agg: the dataframe with the information you want to aggregate. For example, the income of all people in the country\n",
    "# year: the year of the data you want to use\n",
    "# agg_func: the aggregation function you want to use. For example, pl.mean or pl.sum\n",
    "# return_pandas: if True, the function returns a pandas dataframe. If False, it returns a polars dataframe\n",
    "# lazy: if True, the operations are concatenated lazily and computed at the end. If False, the operations are computed immediately\n",
    "\n",
    "## Example\n",
    "query =  \"Sample -> Schoolmates[all] -> Family[301,302,303] -> Income\"\n",
    "df = transform(query, \n",
    "               df_sample = df_sample, \n",
    "               df_agg = df_agg, \n",
    "               year=2021, \n",
    "               agg_func=pl.mean, \n",
    "               return_pandas=False, \n",
    "               lazy=True)\n",
    "\n",
    "df\n",
    "\n",
    "    "
   ]
  }
 ],
 "metadata": {
  "kernelspec": {
   "display_name": "st",
   "language": "python",
   "name": "python3"
  },
  "language_info": {
   "codemirror_mode": {
    "name": "ipython",
    "version": 3
   },
   "file_extension": ".py",
   "mimetype": "text/x-python",
   "name": "python",
   "nbconvert_exporter": "python",
   "pygments_lexer": "ipython3",
   "version": "3.10.12"
  }
 },
 "nbformat": 4,
 "nbformat_minor": 2
}
