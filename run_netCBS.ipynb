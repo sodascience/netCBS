{
 "cells": [
  {
   "cell_type": "code",
   "execution_count": 1,
   "metadata": {},
   "outputs": [],
   "source": [
    "#%load_ext autoreload\n",
    "#%autoreload 2\n",
    "\n",
    "\n",
    "import netcbs\n",
    "import numpy as np\n",
    "import polars as pl"
   ]
  },
  {
   "cell_type": "code",
   "execution_count": 2,
   "metadata": {},
   "outputs": [
    {
     "name": "stdout",
     "output_type": "stream",
     "text": [
      "{'Family': {301, 302, 303, 304, 305, 306, 307, 308, 309, 310, 311, 312, 313, 314, 315, 316, 317, 318, 319, 320, 321, 322}, 'Colleagues': {201}, 'Neighbors': {101, 102}, 'Schoolmates': {501, 502, 503, 504, 505, 506}, 'Housemates': {401, 402}}\n",
      "{101: 'Neighbor - 10 closest addresses', 102: 'Neighborhood acquaintance - 20 random neighbors within 200 meters', 201: 'Colleague', 301: 'Parent', 302: 'Co-parent', 303: 'Grandparent', 304: 'Child', 305: 'Grandchild', 306: 'Full sibling', 307: 'Half sibling', 308: 'Unknown sibling', 309: 'Full cousin', 310: 'Cousin', 311: 'Aunt/Uncle', 312: 'Partner - married', 313: 'Partner - not married', 314: 'Parent-in-law', 315: 'Child-in-law', 316: 'Sibling-in-law', 317: 'Stepparent', 318: 'Stepchild', 319: 'Stepsibling', 320: 'Married full cousin', 321: 'Married cousin', 322: 'Married aunt/uncle', 401: 'Housemate', 402: 'Housemate - institution', 501: 'Classmate primary education', 502: 'Classmate special education', 503: 'Classmate secondary education', 504: 'Classmate vocational education', 505: 'Classmate higher professional education', 506: 'Classmate university education'}\n"
     ]
    }
   ],
   "source": [
    "# Print contexts and codebook\n",
    "print(netcbs.context2types)\n",
    "print(netcbs.codebook)"
   ]
  },
  {
   "cell_type": "code",
   "execution_count": 3,
   "metadata": {},
   "outputs": [],
   "source": [
    "# Create df_sample example\n",
    "df_sample = pl.DataFrame(\n",
    "    {\n",
    "        \"RINPERSOON\": range(100_000_000, 100_010_000),\n",
    "        \"RINPERSOONS\": [\"R\"]*10_000\n",
    "    }\n",
    ")\n",
    "\n",
    "df_agg = pl.DataFrame(\n",
    "    {\n",
    "        \"RINPERSOON\":   range(100_000_000, 101_000_000),\n",
    "        \"RINPERSOONS\":  [\"R\"]*1_000_000,\n",
    "        \"Income\":       30000 + np.random.randn(1_000_000)*5000\n",
    "    }\n",
    ")\n",
    "\n"
   ]
  },
  {
   "cell_type": "code",
   "execution_count": 4,
   "metadata": {},
   "outputs": [
    {
     "data": {
      "text/html": [
       "<div><style>\n",
       ".dataframe > thead > tr,\n",
       ".dataframe > tbody > tr {\n",
       "  text-align: right;\n",
       "  white-space: pre-wrap;\n",
       "}\n",
       "</style>\n",
       "<small>shape: (10_000, 3)</small><table border=\"1\" class=\"dataframe\"><thead><tr><th>RINPERSOON</th><th>RINPERSOONS</th><th>Income</th></tr><tr><td>i64</td><td>str</td><td>f64</td></tr></thead><tbody><tr><td>100000000</td><td>&quot;R&quot;</td><td>null</td></tr><tr><td>100000001</td><td>&quot;R&quot;</td><td>null</td></tr><tr><td>100000002</td><td>&quot;R&quot;</td><td>34969.390509</td></tr><tr><td>100000003</td><td>&quot;R&quot;</td><td>null</td></tr><tr><td>100000004</td><td>&quot;R&quot;</td><td>null</td></tr><tr><td>&hellip;</td><td>&hellip;</td><td>&hellip;</td></tr><tr><td>100009995</td><td>&quot;R&quot;</td><td>null</td></tr><tr><td>100009996</td><td>&quot;R&quot;</td><td>null</td></tr><tr><td>100009997</td><td>&quot;R&quot;</td><td>null</td></tr><tr><td>100009998</td><td>&quot;R&quot;</td><td>null</td></tr><tr><td>100009999</td><td>&quot;R&quot;</td><td>null</td></tr></tbody></table></div>"
      ],
      "text/plain": [
       "shape: (10_000, 3)\n",
       "┌────────────┬─────────────┬──────────────┐\n",
       "│ RINPERSOON ┆ RINPERSOONS ┆ Income       │\n",
       "│ ---        ┆ ---         ┆ ---          │\n",
       "│ i64        ┆ str         ┆ f64          │\n",
       "╞════════════╪═════════════╪══════════════╡\n",
       "│ 100000000  ┆ R           ┆ null         │\n",
       "│ 100000001  ┆ R           ┆ null         │\n",
       "│ 100000002  ┆ R           ┆ 34969.390509 │\n",
       "│ 100000003  ┆ R           ┆ null         │\n",
       "│ 100000004  ┆ R           ┆ null         │\n",
       "│ …          ┆ …           ┆ …            │\n",
       "│ 100009995  ┆ R           ┆ null         │\n",
       "│ 100009996  ┆ R           ┆ null         │\n",
       "│ 100009997  ┆ R           ┆ null         │\n",
       "│ 100009998  ┆ R           ┆ null         │\n",
       "│ 100009999  ┆ R           ┆ null         │\n",
       "└────────────┴─────────────┴──────────────┘"
      ]
     },
     "execution_count": 4,
     "metadata": {},
     "output_type": "execute_result"
    }
   ],
   "source": [
    "\n",
    "## How to construct the query\n",
    "# 1. Start with \"Sample ->\"\n",
    "# 2. Then add the relationships between the tables, e.g., \"Sample -> Schoolmates[all]\".\n",
    "# In square brackets you can specify the type of the relationships: \n",
    "# write [all] for all, or [301,302] for parents and co-parents\n",
    "# 3. You can add several tables: \"Sample -> Schoolmates[all] -> Family[301]\"\n",
    "# 4. Finally, you must specify the column you want to aggregate: \"Sample -> Schoolmates[all] -> Family[301] -> Income\"\n",
    "\n",
    "## Other parameters\n",
    "# df_sample: the sample dataframe (with the people you want to have information on)\n",
    "# df_agg: the dataframe with the information you want to aggregate. For example, the income of all people in the country\n",
    "# year: the year of the data you want to use\n",
    "# agg_func: the aggregation function you want to use. For example, pl.mean or pl.sum\n",
    "# return_pandas: if True, the function returns a pandas dataframe. If False, it returns a polars dataframe\n",
    "# lazy: if True, the operations are concatenated lazily and computed at the end. If False, the operations are computed immediately\n",
    "\n",
    "## Example\n",
    "query =  \"Sample -> Schoolmates[all] -> Family[301,302,303] -> Income\"\n",
    "df = netcbs.transform(query, \n",
    "               df_sample = df_sample, \n",
    "               df_agg = df_agg, \n",
    "               year=2021,\n",
    "               cbsdata_path='cbsdata/Bevolking', # Path to the CBS data, in this example is synthetic data locally \n",
    "               agg_func=pl.mean, \n",
    "               return_pandas=False, \n",
    "               lazy=True)\n",
    "\n",
    "df\n",
    "\n",
    "    "
   ]
  }
 ],
 "metadata": {
  "kernelspec": {
   "display_name": "st",
   "language": "python",
   "name": "python3"
  },
  "language_info": {
   "codemirror_mode": {
    "name": "ipython",
    "version": 3
   },
   "file_extension": ".py",
   "mimetype": "text/x-python",
   "name": "python",
   "nbconvert_exporter": "python",
   "pygments_lexer": "ipython3",
   "version": "3.10.12"
  }
 },
 "nbformat": 4,
 "nbformat_minor": 2
}
